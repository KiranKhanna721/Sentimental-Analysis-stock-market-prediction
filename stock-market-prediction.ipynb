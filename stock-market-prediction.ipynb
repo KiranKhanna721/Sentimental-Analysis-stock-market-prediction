{
 "cells": [
  {
   "cell_type": "code",
   "execution_count": 1,
   "id": "fbacd708",
   "metadata": {},
   "outputs": [],
   "source": [
    "import pandas as pd\n",
    "import numpy as np\n",
    "\n",
    "import matplotlib.pyplot as plt\n",
    "import seaborn as sns\n",
    "sns.set_style('whitegrid')\n",
    "plt.style.use(\"fivethirtyeight\")\n",
    "%matplotlib inline\n",
    "import yfinance as yf\n",
    "from datetime import datetime\n",
    "import statsmodels.api as sm\n",
    "from neuralprophet import NeuralProphet"
   ]
  },
  {
   "cell_type": "code",
   "execution_count": 2,
   "id": "aa14490e",
   "metadata": {},
   "outputs": [],
   "source": [
    "df = yf.download('TCS.NS', start='2019-01-01',end='2022-04-01',progress=False)"
   ]
  },
  {
   "cell_type": "code",
   "execution_count": 3,
   "id": "0e2dde0a",
   "metadata": {},
   "outputs": [],
   "source": [
    "df.to_csv('tcs.csv')"
   ]
  },
  {
   "cell_type": "code",
   "execution_count": 4,
   "id": "abdac4f3",
   "metadata": {},
   "outputs": [],
   "source": [
    "df = pd.read_csv('tcs.csv')"
   ]
  },
  {
   "cell_type": "code",
   "execution_count": 5,
   "id": "ab73e9dc",
   "metadata": {},
   "outputs": [
    {
     "data": {
      "text/html": [
       "<div>\n",
       "<style scoped>\n",
       "    .dataframe tbody tr th:only-of-type {\n",
       "        vertical-align: middle;\n",
       "    }\n",
       "\n",
       "    .dataframe tbody tr th {\n",
       "        vertical-align: top;\n",
       "    }\n",
       "\n",
       "    .dataframe thead th {\n",
       "        text-align: right;\n",
       "    }\n",
       "</style>\n",
       "<table border=\"1\" class=\"dataframe\">\n",
       "  <thead>\n",
       "    <tr style=\"text-align: right;\">\n",
       "      <th></th>\n",
       "      <th>Date</th>\n",
       "      <th>Open</th>\n",
       "      <th>High</th>\n",
       "      <th>Low</th>\n",
       "      <th>Close</th>\n",
       "      <th>Adj Close</th>\n",
       "      <th>Volume</th>\n",
       "    </tr>\n",
       "  </thead>\n",
       "  <tbody>\n",
       "    <tr>\n",
       "      <th>0</th>\n",
       "      <td>2019-01-01</td>\n",
       "      <td>1896.000000</td>\n",
       "      <td>1910.000000</td>\n",
       "      <td>1885.000000</td>\n",
       "      <td>1902.800049</td>\n",
       "      <td>1785.039673</td>\n",
       "      <td>1094883</td>\n",
       "    </tr>\n",
       "    <tr>\n",
       "      <th>1</th>\n",
       "      <td>2019-01-02</td>\n",
       "      <td>1905.000000</td>\n",
       "      <td>1934.449951</td>\n",
       "      <td>1900.000000</td>\n",
       "      <td>1923.300049</td>\n",
       "      <td>1804.270996</td>\n",
       "      <td>2100463</td>\n",
       "    </tr>\n",
       "    <tr>\n",
       "      <th>2</th>\n",
       "      <td>2019-01-03</td>\n",
       "      <td>1919.000000</td>\n",
       "      <td>1944.949951</td>\n",
       "      <td>1893.099976</td>\n",
       "      <td>1899.949951</td>\n",
       "      <td>1782.365967</td>\n",
       "      <td>2611668</td>\n",
       "    </tr>\n",
       "    <tr>\n",
       "      <th>3</th>\n",
       "      <td>2019-01-04</td>\n",
       "      <td>1900.000000</td>\n",
       "      <td>1901.199951</td>\n",
       "      <td>1841.000000</td>\n",
       "      <td>1876.849976</td>\n",
       "      <td>1760.695557</td>\n",
       "      <td>4280862</td>\n",
       "    </tr>\n",
       "    <tr>\n",
       "      <th>4</th>\n",
       "      <td>2019-01-07</td>\n",
       "      <td>1891.800049</td>\n",
       "      <td>1908.800049</td>\n",
       "      <td>1881.000000</td>\n",
       "      <td>1897.900024</td>\n",
       "      <td>1780.442993</td>\n",
       "      <td>1856423</td>\n",
       "    </tr>\n",
       "  </tbody>\n",
       "</table>\n",
       "</div>"
      ],
      "text/plain": [
       "         Date         Open         High          Low        Close  \\\n",
       "0  2019-01-01  1896.000000  1910.000000  1885.000000  1902.800049   \n",
       "1  2019-01-02  1905.000000  1934.449951  1900.000000  1923.300049   \n",
       "2  2019-01-03  1919.000000  1944.949951  1893.099976  1899.949951   \n",
       "3  2019-01-04  1900.000000  1901.199951  1841.000000  1876.849976   \n",
       "4  2019-01-07  1891.800049  1908.800049  1881.000000  1897.900024   \n",
       "\n",
       "     Adj Close   Volume  \n",
       "0  1785.039673  1094883  \n",
       "1  1804.270996  2100463  \n",
       "2  1782.365967  2611668  \n",
       "3  1760.695557  4280862  \n",
       "4  1780.442993  1856423  "
      ]
     },
     "execution_count": 5,
     "metadata": {},
     "output_type": "execute_result"
    }
   ],
   "source": [
    "df.head()"
   ]
  },
  {
   "cell_type": "code",
   "execution_count": 6,
   "id": "c50aa84b",
   "metadata": {},
   "outputs": [
    {
     "data": {
      "text/plain": [
       "Date         0\n",
       "Open         0\n",
       "High         0\n",
       "Low          0\n",
       "Close        0\n",
       "Adj Close    0\n",
       "Volume       0\n",
       "dtype: int64"
      ]
     },
     "execution_count": 6,
     "metadata": {},
     "output_type": "execute_result"
    }
   ],
   "source": [
    "df.isna().sum()"
   ]
  },
  {
   "cell_type": "code",
   "execution_count": 7,
   "id": "6e239a04",
   "metadata": {},
   "outputs": [
    {
     "name": "stdout",
     "output_type": "stream",
     "text": [
      "<class 'pandas.core.frame.DataFrame'>\n",
      "RangeIndex: 803 entries, 0 to 802\n",
      "Data columns (total 7 columns):\n",
      " #   Column     Non-Null Count  Dtype  \n",
      "---  ------     --------------  -----  \n",
      " 0   Date       803 non-null    object \n",
      " 1   Open       803 non-null    float64\n",
      " 2   High       803 non-null    float64\n",
      " 3   Low        803 non-null    float64\n",
      " 4   Close      803 non-null    float64\n",
      " 5   Adj Close  803 non-null    float64\n",
      " 6   Volume     803 non-null    int64  \n",
      "dtypes: float64(5), int64(1), object(1)\n",
      "memory usage: 44.0+ KB\n"
     ]
    }
   ],
   "source": [
    "df.info()"
   ]
  },
  {
   "cell_type": "code",
   "execution_count": 8,
   "id": "f8dc4fe9",
   "metadata": {},
   "outputs": [
    {
     "data": {
      "text/html": [
       "<div>\n",
       "<style scoped>\n",
       "    .dataframe tbody tr th:only-of-type {\n",
       "        vertical-align: middle;\n",
       "    }\n",
       "\n",
       "    .dataframe tbody tr th {\n",
       "        vertical-align: top;\n",
       "    }\n",
       "\n",
       "    .dataframe thead th {\n",
       "        text-align: right;\n",
       "    }\n",
       "</style>\n",
       "<table border=\"1\" class=\"dataframe\">\n",
       "  <thead>\n",
       "    <tr style=\"text-align: right;\">\n",
       "      <th></th>\n",
       "      <th>Open</th>\n",
       "      <th>High</th>\n",
       "      <th>Low</th>\n",
       "      <th>Close</th>\n",
       "      <th>Adj Close</th>\n",
       "      <th>Volume</th>\n",
       "    </tr>\n",
       "  </thead>\n",
       "  <tbody>\n",
       "    <tr>\n",
       "      <th>count</th>\n",
       "      <td>803.000000</td>\n",
       "      <td>803.000000</td>\n",
       "      <td>803.000000</td>\n",
       "      <td>803.000000</td>\n",
       "      <td>803.000000</td>\n",
       "      <td>8.030000e+02</td>\n",
       "    </tr>\n",
       "    <tr>\n",
       "      <th>mean</th>\n",
       "      <td>2664.470236</td>\n",
       "      <td>2692.677268</td>\n",
       "      <td>2634.335249</td>\n",
       "      <td>2662.751246</td>\n",
       "      <td>2610.668890</td>\n",
       "      <td>3.239971e+06</td>\n",
       "    </tr>\n",
       "    <tr>\n",
       "      <th>std</th>\n",
       "      <td>663.861285</td>\n",
       "      <td>666.455121</td>\n",
       "      <td>660.537315</td>\n",
       "      <td>663.460296</td>\n",
       "      <td>694.125584</td>\n",
       "      <td>1.835397e+06</td>\n",
       "    </tr>\n",
       "    <tr>\n",
       "      <th>min</th>\n",
       "      <td>1559.699951</td>\n",
       "      <td>1685.449951</td>\n",
       "      <td>1506.050049</td>\n",
       "      <td>1636.349976</td>\n",
       "      <td>1600.641357</td>\n",
       "      <td>2.244050e+05</td>\n",
       "    </tr>\n",
       "    <tr>\n",
       "      <th>25%</th>\n",
       "      <td>2103.500000</td>\n",
       "      <td>2127.725098</td>\n",
       "      <td>2076.775024</td>\n",
       "      <td>2105.750000</td>\n",
       "      <td>2013.265503</td>\n",
       "      <td>2.072809e+06</td>\n",
       "    </tr>\n",
       "    <tr>\n",
       "      <th>50%</th>\n",
       "      <td>2275.000000</td>\n",
       "      <td>2303.850098</td>\n",
       "      <td>2250.500000</td>\n",
       "      <td>2276.050049</td>\n",
       "      <td>2227.217773</td>\n",
       "      <td>2.769033e+06</td>\n",
       "    </tr>\n",
       "    <tr>\n",
       "      <th>75%</th>\n",
       "      <td>3229.500000</td>\n",
       "      <td>3259.875000</td>\n",
       "      <td>3192.500000</td>\n",
       "      <td>3219.174927</td>\n",
       "      <td>3199.953491</td>\n",
       "      <td>3.751640e+06</td>\n",
       "    </tr>\n",
       "    <tr>\n",
       "      <th>max</th>\n",
       "      <td>4033.949951</td>\n",
       "      <td>4043.000000</td>\n",
       "      <td>3980.000000</td>\n",
       "      <td>4019.149902</td>\n",
       "      <td>4012.099854</td>\n",
       "      <td>1.983933e+07</td>\n",
       "    </tr>\n",
       "  </tbody>\n",
       "</table>\n",
       "</div>"
      ],
      "text/plain": [
       "              Open         High          Low        Close    Adj Close  \\\n",
       "count   803.000000   803.000000   803.000000   803.000000   803.000000   \n",
       "mean   2664.470236  2692.677268  2634.335249  2662.751246  2610.668890   \n",
       "std     663.861285   666.455121   660.537315   663.460296   694.125584   \n",
       "min    1559.699951  1685.449951  1506.050049  1636.349976  1600.641357   \n",
       "25%    2103.500000  2127.725098  2076.775024  2105.750000  2013.265503   \n",
       "50%    2275.000000  2303.850098  2250.500000  2276.050049  2227.217773   \n",
       "75%    3229.500000  3259.875000  3192.500000  3219.174927  3199.953491   \n",
       "max    4033.949951  4043.000000  3980.000000  4019.149902  4012.099854   \n",
       "\n",
       "             Volume  \n",
       "count  8.030000e+02  \n",
       "mean   3.239971e+06  \n",
       "std    1.835397e+06  \n",
       "min    2.244050e+05  \n",
       "25%    2.072809e+06  \n",
       "50%    2.769033e+06  \n",
       "75%    3.751640e+06  \n",
       "max    1.983933e+07  "
      ]
     },
     "execution_count": 8,
     "metadata": {},
     "output_type": "execute_result"
    }
   ],
   "source": [
    "df.describe()"
   ]
  },
  {
   "cell_type": "code",
   "execution_count": null,
   "id": "75f5fa18",
   "metadata": {},
   "outputs": [],
   "source": [
    "plt.figure(figsize=(10, 6))\n",
    "df['Close'].plot()\n",
    "plt.ylabel('Close')\n",
    "plt.xlabel(None)\n",
    "plt.title(f\"Closing Price of TCS\")\n",
    "plt.tight_layout()"
   ]
  },
  {
   "cell_type": "code",
   "execution_count": null,
   "id": "f7be7437",
   "metadata": {},
   "outputs": [],
   "source": [
    "plt.figure(figsize=(10, 6))\n",
    "df['Volume'].plot()\n",
    "plt.ylabel('Volume')\n",
    "plt.xlabel(None)\n",
    "plt.title(f\"Volume of TCS\")\n",
    "plt.tight_layout()"
   ]
  },
  {
   "cell_type": "markdown",
   "id": "fc56bfe7",
   "metadata": {},
   "source": [
    "# Plotting a Correlation Heatmap"
   ]
  },
  {
   "cell_type": "code",
   "execution_count": null,
   "id": "c7ea62ae",
   "metadata": {},
   "outputs": [],
   "source": [
    "fig, ax = plt.subplots(figsize=(10,10))  \n",
    "dataplot = sns.heatmap(df.corr(), cmap=\"YlGnBu\", annot=True)"
   ]
  },
  {
   "cell_type": "code",
   "execution_count": null,
   "id": "42762f54",
   "metadata": {},
   "outputs": [],
   "source": [
    "cols_plot = ['Open', 'Close', 'High','Low']\n",
    "axes = df[cols_plot].plot(figsize=(11, 9), subplots=True)\n",
    "for ax in axes:\n",
    "    ax.set_ylabel('Daily trade')"
   ]
  },
  {
   "cell_type": "markdown",
   "id": "36782e44",
   "metadata": {},
   "source": [
    "# Seasonal Decompose"
   ]
  },
  {
   "cell_type": "markdown",
   "id": "b471111a",
   "metadata": {},
   "source": [
    "### if the components of the time series are added together to make the time series. Then the time series is called the additive time series. By visualization, we can say the time series is additive if the increasing or decreasing pattern of the time series is similar throughout the series.\n",
    "\n",
    "### if the components of the time series are multiplicative together, then the time series is called the multiplicative time series. By visualization, if the time series is having exponential growth or decrement with time then the time series can be considered as the multiplicative time series."
   ]
  },
  {
   "cell_type": "code",
   "execution_count": null,
   "id": "69aed971",
   "metadata": {},
   "outputs": [],
   "source": [
    "from statsmodels.tsa.seasonal import seasonal_decompose\n",
    "\n",
    "\n",
    "plt.rcParams.update({\"figure.figsize\":(10,10)})\n",
    "y = df['Close'].to_frame()\n",
    "\n",
    "# Multiplicative Decomoposition\n",
    "result_mul = seasonal_decompose(y, model='multiplicative',period=52)\n",
    "\n",
    "# Additive Decomposition\n",
    "result_add = seasonal_decompose(y, model='additive',period = 52)\n",
    "# Plot\n",
    "plt.rcParams.update({'figure.figsize': (10,10)})\n",
    "result_mul.plot().suptitle('Multiplicative Decompose', fontsize=22)\n",
    "result_add.plot().suptitle('Additive Decompose', fontsize=22)\n",
    "plt.show()"
   ]
  },
  {
   "cell_type": "markdown",
   "id": "109d8b4b",
   "metadata": {},
   "source": [
    "# Box Plot\n",
    "It is a standardized way of displaying the distribution of data. Any data points which are **less than Q1-1.5IQR** or **greater than Q3+1.5IQR** are considered to be outliers."
   ]
  },
  {
   "cell_type": "code",
   "execution_count": null,
   "id": "246f7c01",
   "metadata": {},
   "outputs": [],
   "source": [
    "plt.rcParams['figure.figsize']=(17,5)\n",
    "sns.boxplot(df['Close'], color='brown')\n",
    "plt.show()"
   ]
  },
  {
   "cell_type": "code",
   "execution_count": null,
   "id": "a52be480",
   "metadata": {},
   "outputs": [],
   "source": [
    "df['Date'] = pd.to_datetime(df.Date,format='%Y-%m-%d')\n",
    "df.index = df['Date']"
   ]
  },
  {
   "cell_type": "code",
   "execution_count": null,
   "id": "ac0d916d",
   "metadata": {},
   "outputs": [],
   "source": [
    "df.head(5)"
   ]
  },
  {
   "cell_type": "markdown",
   "id": "de3d02a7",
   "metadata": {},
   "source": [
    "### ACF"
   ]
  },
  {
   "cell_type": "code",
   "execution_count": null,
   "id": "93747273",
   "metadata": {},
   "outputs": [],
   "source": [
    "sm.graphics.tsa.plot_acf(df['Close'].iloc[1:], lags=40, title='Auto Correlation of Close')\n",
    "plt.show()"
   ]
  },
  {
   "cell_type": "markdown",
   "id": "33a0c61b",
   "metadata": {},
   "source": [
    "### PCF"
   ]
  },
  {
   "cell_type": "code",
   "execution_count": null,
   "id": "5852c976",
   "metadata": {},
   "outputs": [],
   "source": [
    "sm.graphics.tsa.plot_pacf(df['Close'].iloc[1:], lags=40, title='Partial Auto Correlation of Close')\n",
    "plt.show()"
   ]
  },
  {
   "cell_type": "code",
   "execution_count": null,
   "id": "5c066d4c",
   "metadata": {},
   "outputs": [],
   "source": [
    "data = pd.DataFrame(index=range(0,len(df)),columns=['Open','Close'])\n",
    "\n",
    "for i in range(0,len(data)):\n",
    "   # data['Date'][i] = df['Date'][i]\n",
    "    data['Open'][i] = df['Open'][i]\n",
    "    data['Close'][i] = df['Close'][i]"
   ]
  },
  {
   "cell_type": "code",
   "execution_count": null,
   "id": "3ab233f4",
   "metadata": {},
   "outputs": [],
   "source": [
    "data.columns = ['Open','Close']\n",
    "#data['Date'] = pd.to_datetime(data['Date'],format=\"%Y-%m\")"
   ]
  },
  {
   "cell_type": "code",
   "execution_count": null,
   "id": "79a44d6b",
   "metadata": {},
   "outputs": [],
   "source": [
    "#ata = data.set_index('Date')"
   ]
  },
  {
   "cell_type": "code",
   "execution_count": null,
   "id": "f6612624",
   "metadata": {},
   "outputs": [],
   "source": [
    "data.head()"
   ]
  },
  {
   "cell_type": "code",
   "execution_count": null,
   "id": "d302b925",
   "metadata": {},
   "outputs": [],
   "source": [
    "length_train = int(np.ceil( len(df) * .95 ))\n",
    "train = data.iloc[:length_train,:]\n",
    "test=data.iloc[length_train:,: ]"
   ]
  },
  {
   "cell_type": "code",
   "execution_count": null,
   "id": "26c42d44",
   "metadata": {},
   "outputs": [],
   "source": [
    "len(train),len(test)"
   ]
  },
  {
   "cell_type": "code",
   "execution_count": null,
   "id": "4ac8811b",
   "metadata": {},
   "outputs": [],
   "source": [
    "x_train = train.drop('Close', axis=1)\n",
    "y_train = train['Close']\n",
    "x_test = test.drop('Close', axis=1)\n",
    "y_test = test['Close']"
   ]
  },
  {
   "cell_type": "code",
   "execution_count": null,
   "id": "0e8f0d1b",
   "metadata": {},
   "outputs": [],
   "source": [
    "from sklearn.linear_model import LinearRegression\n",
    "model = LinearRegression()\n",
    "model.fit(x_train,y_train)"
   ]
  },
  {
   "cell_type": "code",
   "execution_count": null,
   "id": "34ceb9cf",
   "metadata": {},
   "outputs": [],
   "source": [
    "preds = model.predict(x_test)\n",
    "rms=np.sqrt(np.mean(np.power((np.array(y_test)-np.array(preds)),2)))\n",
    "rms"
   ]
  },
  {
   "cell_type": "code",
   "execution_count": null,
   "id": "994b0024",
   "metadata": {},
   "outputs": [],
   "source": [
    "from sklearn.tree import DecisionTreeRegressor\n",
    "from sklearn import metrics\n",
    "from sklearn.model_selection import cross_val_score"
   ]
  },
  {
   "cell_type": "code",
   "execution_count": null,
   "id": "d93056e2",
   "metadata": {},
   "outputs": [],
   "source": [
    "model1 = DecisionTreeRegressor()\n",
    "model1.fit(x_train,y_train)"
   ]
  },
  {
   "cell_type": "code",
   "execution_count": null,
   "id": "98c4894b",
   "metadata": {},
   "outputs": [],
   "source": [
    "preds1 = model1.predict(x_test)"
   ]
  },
  {
   "cell_type": "code",
   "execution_count": null,
   "id": "9de5c515",
   "metadata": {},
   "outputs": [],
   "source": [
    "rms=np.sqrt(np.mean(np.power((np.array(y_test)-np.array(preds1)),2)))\n",
    "rms"
   ]
  },
  {
   "cell_type": "code",
   "execution_count": null,
   "id": "186666f7",
   "metadata": {},
   "outputs": [],
   "source": [
    "from sklearn.ensemble import RandomForestRegressor"
   ]
  },
  {
   "cell_type": "code",
   "execution_count": null,
   "id": "3f5f9fb8",
   "metadata": {},
   "outputs": [],
   "source": [
    "model2 = RandomForestRegressor()\n",
    "model2.fit(x_train,y_train)"
   ]
  },
  {
   "cell_type": "code",
   "execution_count": null,
   "id": "b22c6993",
   "metadata": {},
   "outputs": [],
   "source": [
    "preds2 = model2.predict(x_test)"
   ]
  },
  {
   "cell_type": "code",
   "execution_count": null,
   "id": "c665ff2d",
   "metadata": {},
   "outputs": [],
   "source": [
    "rms=np.sqrt(np.mean(np.power((np.array(y_test)-np.array(preds2)),2)))\n",
    "rms"
   ]
  },
  {
   "cell_type": "markdown",
   "id": "7d5bdf5c",
   "metadata": {},
   "source": [
    "### LSTM"
   ]
  },
  {
   "cell_type": "code",
   "execution_count": null,
   "id": "4f7bde33",
   "metadata": {},
   "outputs": [],
   "source": [
    "from keras.models import Sequential\n",
    "from keras.layers import Dense, LSTM ,Dropout"
   ]
  },
  {
   "cell_type": "code",
   "execution_count": null,
   "id": "b569076d",
   "metadata": {},
   "outputs": [],
   "source": [
    "x_train1 = np.asarray(x_train).astype(np.float32)\n",
    "y_train1   = np.asarray(y_train).astype(np.float32)\n",
    "\n",
    "\n",
    "x_train1 = np.expand_dims(x_train1, -1)\n",
    "y_train1   = np.expand_dims(y_train1, -1)"
   ]
  },
  {
   "cell_type": "code",
   "execution_count": null,
   "id": "c1eb22a4",
   "metadata": {},
   "outputs": [],
   "source": [
    "regression= Sequential()\n",
    "regression.add(LSTM(units=100,return_sequences=True,input_shape=(x_train.shape[1],1)))\n",
    "regression.add(Dropout(0.2))\n",
    "regression.add(LSTM(units=100,return_sequences=True))\n",
    "regression.add(Dropout(0.2))\n",
    "regression.add(LSTM(units=100,return_sequences=True))\n",
    "regression.add(Dropout(0.2))\n",
    "regression.add(LSTM(units=100))\n",
    "regression.add(Dropout(0.2))\n",
    "regression.add(Dense(units=1))\n",
    "regression.compile(optimizer='adam',loss='mean_squared_error')\n",
    "regression.fit(x_train1,y_train1,batch_size=32,epochs=300)"
   ]
  },
  {
   "cell_type": "code",
   "execution_count": null,
   "id": "9e150e9b",
   "metadata": {},
   "outputs": [],
   "source": [
    "x_test1 = np.array(x_test).astype(np.float32)\n",
    "y_test1 = np.array(y_test).astype(np.float32)\n",
    "# Reshape the data\n",
    "x_test1 = np.expand_dims(x_test1, -1)\n",
    "y_test1 = np.expand_dims(y_test1, -1)\n",
    "\n",
    "# Get the models predicted price values \n",
    "predictions = regression.predict(x_test1)\n",
    "#predictions = scaler.inverse_transform(predictions)\n",
    "\n",
    "# Get the root mean squared error (RMSE)\n",
    "rmse = np.sqrt(np.mean(((predictions - y_test1) ** 2)))\n",
    "rmse"
   ]
  },
  {
   "cell_type": "code",
   "execution_count": null,
   "id": "e8259888",
   "metadata": {},
   "outputs": [],
   "source": [
    "test['Predictions'] = predictions\n",
    "# Visualize the data\n",
    "plt.figure(figsize=(16,6))\n",
    "plt.title('Model')\n",
    "plt.xlabel('Date', fontsize=18)\n",
    "plt.ylabel('Open Price USD ($)', fontsize=18)\n",
    "plt.plot(train['Close'])\n",
    "plt.plot(test[['Close', 'Predictions']])\n",
    "plt.legend(['Train', 'Val', 'Predictions'], loc='lower right')\n",
    "plt.show()"
   ]
  },
  {
   "cell_type": "markdown",
   "id": "a1072701",
   "metadata": {},
   "source": [
    "### NeuralProphet"
   ]
  },
  {
   "cell_type": "code",
   "execution_count": null,
   "id": "de39cf46",
   "metadata": {},
   "outputs": [],
   "source": [
    "df1 = df[[\"Date\", \"Close\"]]\n",
    "modelp = NeuralProphet()\n",
    "df1.rename(columns={\"Date\": \"ds\", \"Close\": \"y\"}, inplace=True)\n",
    "metrics = modelp.fit(df1, freq=\"D\")"
   ]
  },
  {
   "cell_type": "code",
   "execution_count": null,
   "id": "07fbb62a",
   "metadata": {},
   "outputs": [],
   "source": [
    "future = modelp.make_future_dataframe(df1, periods=365, n_historic_predictions=len(df1))\n",
    "forecast = modelp.predict(future)"
   ]
  },
  {
   "cell_type": "code",
   "execution_count": null,
   "id": "8111d703",
   "metadata": {},
   "outputs": [],
   "source": [
    "fig1 = modelp.plot(forecast)"
   ]
  },
  {
   "cell_type": "code",
   "execution_count": null,
   "id": "67593383",
   "metadata": {},
   "outputs": [],
   "source": []
  }
 ],
 "metadata": {
  "kernelspec": {
   "display_name": "Python 3 (ipykernel)",
   "language": "python",
   "name": "python3"
  },
  "language_info": {
   "codemirror_mode": {
    "name": "ipython",
    "version": 3
   },
   "file_extension": ".py",
   "mimetype": "text/x-python",
   "name": "python",
   "nbconvert_exporter": "python",
   "pygments_lexer": "ipython3",
   "version": "3.9.7"
  }
 },
 "nbformat": 4,
 "nbformat_minor": 5
}
