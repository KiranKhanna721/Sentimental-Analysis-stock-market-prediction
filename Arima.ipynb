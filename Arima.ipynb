{
 "cells": [
  {
   "cell_type": "markdown",
   "metadata": {
    "id": "4ZKVsDfEq4H8"
   },
   "source": [
    "# Arima"
   ]
  },
  {
   "cell_type": "code",
   "execution_count": 2,
   "metadata": {
    "colab": {
     "base_uri": "https://localhost:8080/"
    },
    "id": "9d4CmDUOmIs6",
    "outputId": "0151df44-12d9-4506-db0f-586ebdd57ba6"
   },
   "outputs": [
    {
     "name": "stdout",
     "output_type": "stream",
     "text": [
      "Collecting yfinance\n",
      "  Downloading yfinance-0.1.70-py2.py3-none-any.whl (26 kB)\n",
      "Requirement already satisfied: multitasking>=0.0.7 in /usr/local/lib/python3.7/dist-packages (from yfinance) (0.0.10)\n",
      "Requirement already satisfied: pandas>=0.24.0 in /usr/local/lib/python3.7/dist-packages (from yfinance) (1.3.5)\n",
      "Collecting lxml>=4.5.1\n",
      "  Downloading lxml-4.8.0-cp37-cp37m-manylinux_2_17_x86_64.manylinux2014_x86_64.manylinux_2_24_x86_64.whl (6.4 MB)\n",
      "\u001b[K     |████████████████████████████████| 6.4 MB 36.0 MB/s \n",
      "\u001b[?25hRequirement already satisfied: numpy>=1.15 in /usr/local/lib/python3.7/dist-packages (from yfinance) (1.21.6)\n",
      "Collecting requests>=2.26\n",
      "  Downloading requests-2.27.1-py2.py3-none-any.whl (63 kB)\n",
      "\u001b[K     |████████████████████████████████| 63 kB 1.9 MB/s \n",
      "\u001b[?25hRequirement already satisfied: pytz>=2017.3 in /usr/local/lib/python3.7/dist-packages (from pandas>=0.24.0->yfinance) (2022.1)\n",
      "Requirement already satisfied: python-dateutil>=2.7.3 in /usr/local/lib/python3.7/dist-packages (from pandas>=0.24.0->yfinance) (2.8.2)\n",
      "Requirement already satisfied: six>=1.5 in /usr/local/lib/python3.7/dist-packages (from python-dateutil>=2.7.3->pandas>=0.24.0->yfinance) (1.15.0)\n",
      "Requirement already satisfied: certifi>=2017.4.17 in /usr/local/lib/python3.7/dist-packages (from requests>=2.26->yfinance) (2021.10.8)\n",
      "Requirement already satisfied: urllib3<1.27,>=1.21.1 in /usr/local/lib/python3.7/dist-packages (from requests>=2.26->yfinance) (1.24.3)\n",
      "Requirement already satisfied: idna<4,>=2.5 in /usr/local/lib/python3.7/dist-packages (from requests>=2.26->yfinance) (2.10)\n",
      "Requirement already satisfied: charset-normalizer~=2.0.0 in /usr/local/lib/python3.7/dist-packages (from requests>=2.26->yfinance) (2.0.12)\n",
      "Installing collected packages: requests, lxml, yfinance\n",
      "  Attempting uninstall: requests\n",
      "    Found existing installation: requests 2.23.0\n",
      "    Uninstalling requests-2.23.0:\n",
      "      Successfully uninstalled requests-2.23.0\n",
      "  Attempting uninstall: lxml\n",
      "    Found existing installation: lxml 4.2.6\n",
      "    Uninstalling lxml-4.2.6:\n",
      "      Successfully uninstalled lxml-4.2.6\n",
      "\u001b[31mERROR: pip's dependency resolver does not currently take into account all the packages that are installed. This behaviour is the source of the following dependency conflicts.\n",
      "google-colab 1.0.0 requires requests~=2.23.0, but you have requests 2.27.1 which is incompatible.\n",
      "datascience 0.10.6 requires folium==0.2.1, but you have folium 0.8.3 which is incompatible.\u001b[0m\n",
      "Successfully installed lxml-4.8.0 requests-2.27.1 yfinance-0.1.70\n"
     ]
    }
   ],
   "source": [
    "!pip install yfinance"
   ]
  },
  {
   "cell_type": "code",
   "execution_count": null,
   "metadata": {},
   "outputs": [],
   "source": []
  },
  {
   "cell_type": "code",
   "execution_count": 2,
   "metadata": {
    "colab": {
     "base_uri": "https://localhost:8080/"
    },
    "id": "bqfdQOMDRLDa",
    "outputId": "ac9e567a-6259-4198-d1df-7682ac146b97"
   },
   "outputs": [],
   "source": [
    "import pandas as pd\n",
    "import numpy as np\n",
    "\n",
    "import matplotlib.pyplot as plt\n",
    "import seaborn as sns\n",
    "sns.set_style('whitegrid')\n",
    "plt.style.use(\"fivethirtyeight\")\n",
    "%matplotlib inline\n",
    "import yfinance as yf\n",
    "from datetime import datetime\n",
    "import statsmodels.api as sm"
   ]
  },
  {
   "cell_type": "code",
   "execution_count": 3,
   "metadata": {
    "id": "C_ipc37jRLDb"
   },
   "outputs": [],
   "source": [
    "df = yf.download('TCS', start='2019-01-01',end='2022-04-01',progress=False)\n",
    "df.to_csv('tcs.csv')"
   ]
  },
  {
   "cell_type": "code",
   "execution_count": 4,
   "metadata": {
    "id": "Dah98izrmbjy"
   },
   "outputs": [],
   "source": [
    "df = pd.read_csv('tcs.csv')"
   ]
  },
  {
   "cell_type": "code",
   "execution_count": 5,
   "metadata": {
    "id": "NpuRSjqERLDc"
   },
   "outputs": [],
   "source": [
    "df.set_index('Date',inplace=True)"
   ]
  },
  {
   "cell_type": "code",
   "execution_count": 6,
   "metadata": {
    "colab": {
     "base_uri": "https://localhost:8080/",
     "height": 238
    },
    "id": "sHjwK5ZYRLDc",
    "outputId": "b46c729f-956f-4323-cc61-0c1b3a3b4dd8"
   },
   "outputs": [
    {
     "data": {
      "text/html": [
       "<div>\n",
       "<style scoped>\n",
       "    .dataframe tbody tr th:only-of-type {\n",
       "        vertical-align: middle;\n",
       "    }\n",
       "\n",
       "    .dataframe tbody tr th {\n",
       "        vertical-align: top;\n",
       "    }\n",
       "\n",
       "    .dataframe thead th {\n",
       "        text-align: right;\n",
       "    }\n",
       "</style>\n",
       "<table border=\"1\" class=\"dataframe\">\n",
       "  <thead>\n",
       "    <tr style=\"text-align: right;\">\n",
       "      <th></th>\n",
       "      <th>Open</th>\n",
       "      <th>High</th>\n",
       "      <th>Low</th>\n",
       "      <th>Close</th>\n",
       "      <th>Adj Close</th>\n",
       "      <th>Volume</th>\n",
       "    </tr>\n",
       "    <tr>\n",
       "      <th>Date</th>\n",
       "      <th></th>\n",
       "      <th></th>\n",
       "      <th></th>\n",
       "      <th></th>\n",
       "      <th></th>\n",
       "      <th></th>\n",
       "    </tr>\n",
       "  </thead>\n",
       "  <tbody>\n",
       "    <tr>\n",
       "      <th>2018-12-31</th>\n",
       "      <td>4.71</td>\n",
       "      <td>4.86</td>\n",
       "      <td>4.63</td>\n",
       "      <td>4.77</td>\n",
       "      <td>4.458913</td>\n",
       "      <td>456500</td>\n",
       "    </tr>\n",
       "    <tr>\n",
       "      <th>2019-01-02</th>\n",
       "      <td>4.72</td>\n",
       "      <td>5.08</td>\n",
       "      <td>4.69</td>\n",
       "      <td>4.95</td>\n",
       "      <td>4.627174</td>\n",
       "      <td>272500</td>\n",
       "    </tr>\n",
       "    <tr>\n",
       "      <th>2019-01-03</th>\n",
       "      <td>4.92</td>\n",
       "      <td>5.08</td>\n",
       "      <td>4.82</td>\n",
       "      <td>4.93</td>\n",
       "      <td>4.608478</td>\n",
       "      <td>256800</td>\n",
       "    </tr>\n",
       "    <tr>\n",
       "      <th>2019-01-04</th>\n",
       "      <td>5.01</td>\n",
       "      <td>5.15</td>\n",
       "      <td>4.95</td>\n",
       "      <td>5.12</td>\n",
       "      <td>4.786087</td>\n",
       "      <td>217600</td>\n",
       "    </tr>\n",
       "    <tr>\n",
       "      <th>2019-01-07</th>\n",
       "      <td>5.12</td>\n",
       "      <td>5.49</td>\n",
       "      <td>5.05</td>\n",
       "      <td>5.38</td>\n",
       "      <td>5.029130</td>\n",
       "      <td>246100</td>\n",
       "    </tr>\n",
       "  </tbody>\n",
       "</table>\n",
       "</div>"
      ],
      "text/plain": [
       "            Open  High   Low  Close  Adj Close  Volume\n",
       "Date                                                  \n",
       "2018-12-31  4.71  4.86  4.63   4.77   4.458913  456500\n",
       "2019-01-02  4.72  5.08  4.69   4.95   4.627174  272500\n",
       "2019-01-03  4.92  5.08  4.82   4.93   4.608478  256800\n",
       "2019-01-04  5.01  5.15  4.95   5.12   4.786087  217600\n",
       "2019-01-07  5.12  5.49  5.05   5.38   5.029130  246100"
      ]
     },
     "execution_count": 6,
     "metadata": {},
     "output_type": "execute_result"
    }
   ],
   "source": [
    "df.head()"
   ]
  },
  {
   "cell_type": "code",
   "execution_count": 8,
   "metadata": {
    "colab": {
     "base_uri": "https://localhost:8080/",
     "height": 282
    },
    "id": "sDG2d4afRLDd",
    "outputId": "bf734b1b-bb1e-45dd-d427-252b33a080cb"
   },
   "outputs": [
    {
     "data": {
      "image/png": "[encoded data removed]",
      "text/plain": [
       "<Figure size 432x288 with 1 Axes>"
      ]
     },
     "metadata": {
      "needs_background": "light"
     },
     "output_type": "display_data"
    }
   ],
   "source": [
    "df['Close'].plot()\n",
    "plt.show()"
   ]
  },
  {
   "cell_type": "markdown",
   "metadata": {
    "id": "Om36LPzFRLDf"
   },
   "source": [
    "### Data Pre-Processing"
   ]
  },
  {
   "cell_type": "code",
   "execution_count": 9,
   "metadata": {
    "colab": {
     "base_uri": "https://localhost:8080/"
    },
    "id": "BGvpW1XfRLDf",
    "outputId": "48e7ef99-b7dd-418b-c66e-6fb9599282b1"
   },
   "outputs": [
    {
     "data": {
      "text/plain": [
       "(819, 6)"
      ]
     },
     "execution_count": 9,
     "metadata": {},
     "output_type": "execute_result"
    }
   ],
   "source": [
    "df.shape"
   ]
  },
  {
   "cell_type": "code",
   "execution_count": 10,
   "metadata": {
    "colab": {
     "base_uri": "https://localhost:8080/"
    },
    "id": "FaTb6T-RRLDg",
    "outputId": "eb8a5466-5c8f-46ee-d59a-735b6030ec0c"
   },
   "outputs": [
    {
     "data": {
      "text/plain": [
       "Open         0\n",
       "High         0\n",
       "Low          0\n",
       "Close        0\n",
       "Adj Close    0\n",
       "Volume       0\n",
       "dtype: int64"
      ]
     },
     "execution_count": 10,
     "metadata": {},
     "output_type": "execute_result"
    }
   ],
   "source": [
    "df.isna().sum()"
   ]
  },
  {
   "cell_type": "code",
   "execution_count": 11,
   "metadata": {
    "id": "VIGANfkpRLDg"
   },
   "outputs": [],
   "source": [
    "df.dropna(inplace=True)"
   ]
  },
  {
   "cell_type": "code",
   "execution_count": 13,
   "metadata": {
    "id": "i0vw7G2BRLDh"
   },
   "outputs": [],
   "source": [
    "data=df.copy()"
   ]
  },
  {
   "cell_type": "code",
   "execution_count": 14,
   "metadata": {
    "colab": {
     "base_uri": "https://localhost:8080/"
    },
    "id": "gNA-IM_CRLDh",
    "outputId": "7cbdd626-fad7-4612-964c-1499f900047c"
   },
   "outputs": [
    {
     "data": {
      "text/plain": [
       "Open         float64\n",
       "High         float64\n",
       "Low          float64\n",
       "Close        float64\n",
       "Adj Close    float64\n",
       "Volume         int64\n",
       "dtype: object"
      ]
     },
     "execution_count": 14,
     "metadata": {},
     "output_type": "execute_result"
    }
   ],
   "source": [
    "data.dtypes"
   ]
  },
  {
   "cell_type": "code",
   "execution_count": 15,
   "metadata": {
    "colab": {
     "base_uri": "https://localhost:8080/"
    },
    "id": "3NDh5BTcRLDh",
    "outputId": "c1e3e27d-f901-49ff-95a8-f4b77976158c"
   },
   "outputs": [
    {
     "data": {
      "text/plain": [
       "Index(['Open', 'High', 'Low', 'Close', 'Adj Close', 'Volume'], dtype='object')"
      ]
     },
     "execution_count": 15,
     "metadata": {},
     "output_type": "execute_result"
    }
   ],
   "source": [
    "data.columns"
   ]
  },
  {
   "cell_type": "code",
   "execution_count": 16,
   "metadata": {
    "id": "Ux1gjBgKRLDi"
   },
   "outputs": [],
   "source": [
    "lag_features=['Open','High','Low','Volume','Adj Close']\n",
    "window1=3\n",
    "window2=7"
   ]
  },
  {
   "cell_type": "code",
   "execution_count": 17,
   "metadata": {
    "id": "VDLUsAVZRLDi"
   },
   "outputs": [],
   "source": [
    "for feature in lag_features:\n",
    "    data[feature+'rolling_mean_3']=data[feature].rolling(window=window1).mean()\n",
    "    data[feature+'rolling_mean_7']=data[feature].rolling(window=window2).mean()"
   ]
  },
  {
   "cell_type": "code",
   "execution_count": 18,
   "metadata": {
    "id": "zRJBQ-tXRLDi"
   },
   "outputs": [],
   "source": [
    "for feature in lag_features:\n",
    "    data[feature+'rolling_std_3']=data[feature].rolling(window=window1).std()\n",
    "    data[feature+'rolling_std_7']=data[feature].rolling(window=window2).std()"
   ]
  },
  {
   "cell_type": "code",
   "execution_count": 19,
   "metadata": {
    "colab": {
     "base_uri": "https://localhost:8080/",
     "height": 435
    },
    "id": "KvD1AXlyRLDj",
    "outputId": "5e137ec9-b961-40bc-c814-41df38f6a19a"
   },
   "outputs": [
    {
     "data": {
      "text/html": [
       "\n",
       "  <div id=\"df-f4b859b7-75be-4c5c-a0e7-7ade8924f49b\">\n",
       "    <div class=\"colab-df-container\">\n",
       "      <div>\n",
       "<style scoped>\n",
       "    .dataframe tbody tr th:only-of-type {\n",
       "        vertical-align: middle;\n",
       "    }\n",
       "\n",
       "    .dataframe tbody tr th {\n",
       "        vertical-align: top;\n",
       "    }\n",
       "\n",
       "    .dataframe thead th {\n",
       "        text-align: right;\n",
       "    }\n",
       "</style>\n",
       "<table border=\"1\" class=\"dataframe\">\n",
       "  <thead>\n",
       "    <tr style=\"text-align: right;\">\n",
       "      <th></th>\n",
       "      <th>Open</th>\n",
       "      <th>High</th>\n",
       "      <th>Low</th>\n",
       "      <th>Close</th>\n",
       "      <th>Adj Close</th>\n",
       "      <th>Volume</th>\n",
       "      <th>Openrolling_mean_3</th>\n",
       "      <th>Openrolling_mean_7</th>\n",
       "      <th>Highrolling_mean_3</th>\n",
       "      <th>Highrolling_mean_7</th>\n",
       "      <th>...</th>\n",
       "      <th>Openrolling_std_3</th>\n",
       "      <th>Openrolling_std_7</th>\n",
       "      <th>Highrolling_std_3</th>\n",
       "      <th>Highrolling_std_7</th>\n",
       "      <th>Lowrolling_std_3</th>\n",
       "      <th>Lowrolling_std_7</th>\n",
       "      <th>Volumerolling_std_3</th>\n",
       "      <th>Volumerolling_std_7</th>\n",
       "      <th>Adj Closerolling_std_3</th>\n",
       "      <th>Adj Closerolling_std_7</th>\n",
       "    </tr>\n",
       "    <tr>\n",
       "      <th>Date</th>\n",
       "      <th></th>\n",
       "      <th></th>\n",
       "      <th></th>\n",
       "      <th></th>\n",
       "      <th></th>\n",
       "      <th></th>\n",
       "      <th></th>\n",
       "      <th></th>\n",
       "      <th></th>\n",
       "      <th></th>\n",
       "      <th></th>\n",
       "      <th></th>\n",
       "      <th></th>\n",
       "      <th></th>\n",
       "      <th></th>\n",
       "      <th></th>\n",
       "      <th></th>\n",
       "      <th></th>\n",
       "      <th></th>\n",
       "      <th></th>\n",
       "      <th></th>\n",
       "    </tr>\n",
       "  </thead>\n",
       "  <tbody>\n",
       "    <tr>\n",
       "      <th>2019-01-02</th>\n",
       "      <td>4.72</td>\n",
       "      <td>5.08</td>\n",
       "      <td>4.69</td>\n",
       "      <td>4.95</td>\n",
       "      <td>4.627174</td>\n",
       "      <td>272500</td>\n",
       "      <td>NaN</td>\n",
       "      <td>NaN</td>\n",
       "      <td>NaN</td>\n",
       "      <td>NaN</td>\n",
       "      <td>...</td>\n",
       "      <td>NaN</td>\n",
       "      <td>NaN</td>\n",
       "      <td>NaN</td>\n",
       "      <td>NaN</td>\n",
       "      <td>NaN</td>\n",
       "      <td>NaN</td>\n",
       "      <td>NaN</td>\n",
       "      <td>NaN</td>\n",
       "      <td>NaN</td>\n",
       "      <td>NaN</td>\n",
       "    </tr>\n",
       "    <tr>\n",
       "      <th>2019-01-03</th>\n",
       "      <td>4.92</td>\n",
       "      <td>5.08</td>\n",
       "      <td>4.82</td>\n",
       "      <td>4.93</td>\n",
       "      <td>4.608478</td>\n",
       "      <td>256800</td>\n",
       "      <td>NaN</td>\n",
       "      <td>NaN</td>\n",
       "      <td>NaN</td>\n",
       "      <td>NaN</td>\n",
       "      <td>...</td>\n",
       "      <td>NaN</td>\n",
       "      <td>NaN</td>\n",
       "      <td>NaN</td>\n",
       "      <td>NaN</td>\n",
       "      <td>NaN</td>\n",
       "      <td>NaN</td>\n",
       "      <td>NaN</td>\n",
       "      <td>NaN</td>\n",
       "      <td>NaN</td>\n",
       "      <td>NaN</td>\n",
       "    </tr>\n",
       "    <tr>\n",
       "      <th>2019-01-04</th>\n",
       "      <td>5.01</td>\n",
       "      <td>5.15</td>\n",
       "      <td>4.95</td>\n",
       "      <td>5.12</td>\n",
       "      <td>4.786087</td>\n",
       "      <td>217600</td>\n",
       "      <td>4.883333</td>\n",
       "      <td>NaN</td>\n",
       "      <td>5.103333</td>\n",
       "      <td>NaN</td>\n",
       "      <td>...</td>\n",
       "      <td>0.148437</td>\n",
       "      <td>NaN</td>\n",
       "      <td>0.040415</td>\n",
       "      <td>NaN</td>\n",
       "      <td>0.130000</td>\n",
       "      <td>NaN</td>\n",
       "      <td>28275.843636</td>\n",
       "      <td>NaN</td>\n",
       "      <td>0.097594</td>\n",
       "      <td>NaN</td>\n",
       "    </tr>\n",
       "    <tr>\n",
       "      <th>2019-01-07</th>\n",
       "      <td>5.12</td>\n",
       "      <td>5.49</td>\n",
       "      <td>5.05</td>\n",
       "      <td>5.38</td>\n",
       "      <td>5.029130</td>\n",
       "      <td>246100</td>\n",
       "      <td>5.016667</td>\n",
       "      <td>NaN</td>\n",
       "      <td>5.240000</td>\n",
       "      <td>NaN</td>\n",
       "      <td>...</td>\n",
       "      <td>0.100166</td>\n",
       "      <td>NaN</td>\n",
       "      <td>0.219317</td>\n",
       "      <td>NaN</td>\n",
       "      <td>0.115326</td>\n",
       "      <td>NaN</td>\n",
       "      <td>20262.362482</td>\n",
       "      <td>NaN</td>\n",
       "      <td>0.211173</td>\n",
       "      <td>NaN</td>\n",
       "    </tr>\n",
       "    <tr>\n",
       "      <th>2019-01-08</th>\n",
       "      <td>5.47</td>\n",
       "      <td>5.69</td>\n",
       "      <td>5.38</td>\n",
       "      <td>5.55</td>\n",
       "      <td>5.188044</td>\n",
       "      <td>323200</td>\n",
       "      <td>5.200000</td>\n",
       "      <td>NaN</td>\n",
       "      <td>5.443333</td>\n",
       "      <td>NaN</td>\n",
       "      <td>...</td>\n",
       "      <td>0.240208</td>\n",
       "      <td>NaN</td>\n",
       "      <td>0.273008</td>\n",
       "      <td>NaN</td>\n",
       "      <td>0.225019</td>\n",
       "      <td>NaN</td>\n",
       "      <td>54632.133402</td>\n",
       "      <td>NaN</td>\n",
       "      <td>0.202440</td>\n",
       "      <td>NaN</td>\n",
       "    </tr>\n",
       "  </tbody>\n",
       "</table>\n",
       "<p>5 rows × 26 columns</p>\n",
       "</div>\n",
       "      <button class=\"colab-df-convert\" onclick=\"convertToInteractive('df-f4b859b7-75be-4c5c-a0e7-7ade8924f49b')\"\n",
       "              title=\"Convert this dataframe to an interactive table.\"\n",
       "              style=\"display:none;\">\n",
       "        \n",
       "  <svg xmlns=\"http://www.w3.org/2000/svg\" height=\"24px\"viewBox=\"0 0 24 24\"\n",
       "       width=\"24px\">\n",
       "    <path d=\"M0 0h24v24H0V0z\" fill=\"none\"/>\n",
       "    <path d=\"M18.56 5.44l.94 2.06.94-2.06 2.06-.94-2.06-.94-.94-2.06-.94 2.06-2.06.94zm-11 1L8.5 8.5l.94-2.06 2.06-.94-2.06-.94L8.5 2.5l-.94 2.06-2.06.94zm10 10l.94 2.06.94-2.06 2.06-.94-2.06-.94-.94-2.06-.94 2.06-2.06.94z\"/><path d=\"M17.41 7.96l-1.37-1.37c-.4-.4-.92-.59-1.43-.59-.52 0-1.04.2-1.43.59L10.3 9.45l-7.72 7.72c-.78.78-.78 2.05 0 2.83L4 21.41c.39.39.9.59 1.41.59.51 0 1.02-.2 1.41-.59l7.78-7.78 2.81-2.81c.8-.78.8-2.07 0-2.86zM5.41 20L4 18.59l7.72-7.72 1.47 1.35L5.41 20z\"/>\n",
       "  </svg>\n",
       "      </button>\n",
       "      \n",
       "  <style>\n",
       "    .colab-df-container {\n",
       "      display:flex;\n",
       "      flex-wrap:wrap;\n",
       "      gap: 12px;\n",
       "    }\n",
       "\n",
       "    .colab-df-convert {\n",
       "      background-color: #E8F0FE;\n",
       "      border: none;\n",
       "      border-radius: 50%;\n",
       "      cursor: pointer;\n",
       "      display: none;\n",
       "      fill: #1967D2;\n",
       "      height: 32px;\n",
       "      padding: 0 0 0 0;\n",
       "      width: 32px;\n",
       "    }\n",
       "\n",
       "    .colab-df-convert:hover {\n",
       "      background-color: #E2EBFA;\n",
       "      box-shadow: 0px 1px 2px rgba(60, 64, 67, 0.3), 0px 1px 3px 1px rgba(60, 64, 67, 0.15);\n",
       "      fill: #174EA6;\n",
       "    }\n",
       "\n",
       "    [theme=dark] .colab-df-convert {\n",
       "      background-color: #3B4455;\n",
       "      fill: #D2E3FC;\n",
       "    }\n",
       "\n",
       "    [theme=dark] .colab-df-convert:hover {\n",
       "      background-color: #434B5C;\n",
       "      box-shadow: 0px 1px 3px 1px rgba(0, 0, 0, 0.15);\n",
       "      filter: drop-shadow(0px 1px 2px rgba(0, 0, 0, 0.3));\n",
       "      fill: #FFFFFF;\n",
       "    }\n",
       "  </style>\n",
       "\n",
       "      <script>\n",
       "        const buttonEl =\n",
       "          document.querySelector('#df-f4b859b7-75be-4c5c-a0e7-7ade8924f49b button.colab-df-convert');\n",
       "        buttonEl.style.display =\n",
       "          google.colab.kernel.accessAllowed ? 'block' : 'none';\n",
       "\n",
       "        async function convertToInteractive(key) {\n",
       "          const element = document.querySelector('#df-f4b859b7-75be-4c5c-a0e7-7ade8924f49b');\n",
       "          const dataTable =\n",
       "            await google.colab.kernel.invokeFunction('convertToInteractive',\n",
       "                                                     [key], {});\n",
       "          if (!dataTable) return;\n",
       "\n",
       "          const docLinkHtml = 'Like what you see? Visit the ' +\n",
       "            '<a target=\"_blank\" href=https://colab.research.google.com/notebooks/data_table.ipynb>data table notebook</a>'\n",
       "            + ' to learn more about interactive tables.';\n",
       "          element.innerHTML = '';\n",
       "          dataTable['output_type'] = 'display_data';\n",
       "          await google.colab.output.renderOutput(dataTable, element);\n",
       "          const docLink = document.createElement('div');\n",
       "          docLink.innerHTML = docLinkHtml;\n",
       "          element.appendChild(docLink);\n",
       "        }\n",
       "      </script>\n",
       "    </div>\n",
       "  </div>\n",
       "  "
      ],
      "text/plain": [
       "            Open  High   Low  Close  Adj Close  Volume  Openrolling_mean_3  \\\n",
       "Date                                                                         \n",
       "2019-01-02  4.72  5.08  4.69   4.95   4.627174  272500                 NaN   \n",
       "2019-01-03  4.92  5.08  4.82   4.93   4.608478  256800                 NaN   \n",
       "2019-01-04  5.01  5.15  4.95   5.12   4.786087  217600            4.883333   \n",
       "2019-01-07  5.12  5.49  5.05   5.38   5.029130  246100            5.016667   \n",
       "2019-01-08  5.47  5.69  5.38   5.55   5.188044  323200            5.200000   \n",
       "\n",
       "            Openrolling_mean_7  Highrolling_mean_3  Highrolling_mean_7  ...  \\\n",
       "Date                                                                    ...   \n",
       "2019-01-02                 NaN                 NaN                 NaN  ...   \n",
       "2019-01-03                 NaN                 NaN                 NaN  ...   \n",
       "2019-01-04                 NaN            5.103333                 NaN  ...   \n",
       "2019-01-07                 NaN            5.240000                 NaN  ...   \n",
       "2019-01-08                 NaN            5.443333                 NaN  ...   \n",
       "\n",
       "            Openrolling_std_3  Openrolling_std_7  Highrolling_std_3  \\\n",
       "Date                                                                  \n",
       "2019-01-02                NaN                NaN                NaN   \n",
       "2019-01-03                NaN                NaN                NaN   \n",
       "2019-01-04           0.148437                NaN           0.040415   \n",
       "2019-01-07           0.100166                NaN           0.219317   \n",
       "2019-01-08           0.240208                NaN           0.273008   \n",
       "\n",
       "            Highrolling_std_7  Lowrolling_std_3  Lowrolling_std_7  \\\n",
       "Date                                                                \n",
       "2019-01-02                NaN               NaN               NaN   \n",
       "2019-01-03                NaN               NaN               NaN   \n",
       "2019-01-04                NaN          0.130000               NaN   \n",
       "2019-01-07                NaN          0.115326               NaN   \n",
       "2019-01-08                NaN          0.225019               NaN   \n",
       "\n",
       "            Volumerolling_std_3  Volumerolling_std_7  Adj Closerolling_std_3  \\\n",
       "Date                                                                           \n",
       "2019-01-02                  NaN                  NaN                     NaN   \n",
       "2019-01-03                  NaN                  NaN                     NaN   \n",
       "2019-01-04         28275.843636                  NaN                0.097594   \n",
       "2019-01-07         20262.362482                  NaN                0.211173   \n",
       "2019-01-08         54632.133402                  NaN                0.202440   \n",
       "\n",
       "            Adj Closerolling_std_7  \n",
       "Date                                \n",
       "2019-01-02                     NaN  \n",
       "2019-01-03                     NaN  \n",
       "2019-01-04                     NaN  \n",
       "2019-01-07                     NaN  \n",
       "2019-01-08                     NaN  \n",
       "\n",
       "[5 rows x 26 columns]"
      ]
     },
     "execution_count": 19,
     "metadata": {},
     "output_type": "execute_result"
    }
   ],
   "source": [
    "data.head()"
   ]
  },
  {
   "cell_type": "code",
   "execution_count": 20,
   "metadata": {
    "colab": {
     "base_uri": "https://localhost:8080/"
    },
    "id": "BJ32YyWkRLDj",
    "outputId": "74d3fccd-ce7d-4b0f-b745-c55825baaaf9"
   },
   "outputs": [
    {
     "data": {
      "text/plain": [
       "Index(['Open', 'High', 'Low', 'Close', 'Adj Close', 'Volume',\n",
       "       'Openrolling_mean_3', 'Openrolling_mean_7', 'Highrolling_mean_3',\n",
       "       'Highrolling_mean_7', 'Lowrolling_mean_3', 'Lowrolling_mean_7',\n",
       "       'Volumerolling_mean_3', 'Volumerolling_mean_7',\n",
       "       'Adj Closerolling_mean_3', 'Adj Closerolling_mean_7',\n",
       "       'Openrolling_std_3', 'Openrolling_std_7', 'Highrolling_std_3',\n",
       "       'Highrolling_std_7', 'Lowrolling_std_3', 'Lowrolling_std_7',\n",
       "       'Volumerolling_std_3', 'Volumerolling_std_7', 'Adj Closerolling_std_3',\n",
       "       'Adj Closerolling_std_7'],\n",
       "      dtype='object')"
      ]
     },
     "execution_count": 20,
     "metadata": {},
     "output_type": "execute_result"
    }
   ],
   "source": [
    "data.columns"
   ]
  },
  {
   "cell_type": "code",
   "execution_count": 21,
   "metadata": {
    "colab": {
     "base_uri": "https://localhost:8080/"
    },
    "id": "Wmxs725sRLDk",
    "outputId": "cabe7cb2-56ba-4a77-9232-6017f3a2b2cb"
   },
   "outputs": [
    {
     "data": {
      "text/plain": [
       "Open                       0\n",
       "High                       0\n",
       "Low                        0\n",
       "Close                      0\n",
       "Adj Close                  0\n",
       "Volume                     0\n",
       "Openrolling_mean_3         2\n",
       "Openrolling_mean_7         6\n",
       "Highrolling_mean_3         2\n",
       "Highrolling_mean_7         6\n",
       "Lowrolling_mean_3          2\n",
       "Lowrolling_mean_7          6\n",
       "Volumerolling_mean_3       2\n",
       "Volumerolling_mean_7       6\n",
       "Adj Closerolling_mean_3    2\n",
       "Adj Closerolling_mean_7    6\n",
       "Openrolling_std_3          2\n",
       "Openrolling_std_7          6\n",
       "Highrolling_std_3          2\n",
       "Highrolling_std_7          6\n",
       "Lowrolling_std_3           2\n",
       "Lowrolling_std_7           6\n",
       "Volumerolling_std_3        2\n",
       "Volumerolling_std_7        6\n",
       "Adj Closerolling_std_3     2\n",
       "Adj Closerolling_std_7     6\n",
       "dtype: int64"
      ]
     },
     "execution_count": 21,
     "metadata": {},
     "output_type": "execute_result"
    }
   ],
   "source": [
    "data.isna().sum()"
   ]
  },
  {
   "cell_type": "code",
   "execution_count": 22,
   "metadata": {
    "id": "BtYoX82QRLDk"
   },
   "outputs": [],
   "source": [
    "data.dropna(inplace=True)"
   ]
  },
  {
   "cell_type": "code",
   "execution_count": 23,
   "metadata": {
    "id": "i0ZbU8KqRLDk"
   },
   "outputs": [],
   "source": [
    "ind_features=['Openrolling_mean_3', 'Openrolling_mean_7', 'Highrolling_mean_3',\n",
    "       'Highrolling_mean_7', 'Lowrolling_mean_3', 'Lowrolling_mean_7',\n",
    "       'Volumerolling_mean_3', 'Volumerolling_mean_7',\n",
    "       'Adj Closerolling_mean_3', 'Adj Closerolling_mean_7',\n",
    "       'Openrolling_std_3', 'Openrolling_std_7', 'Highrolling_std_3',\n",
    "       'Highrolling_std_7', 'Lowrolling_std_3', 'Lowrolling_std_7',\n",
    "       'Volumerolling_std_3', 'Volumerolling_std_7', 'Adj Closerolling_std_3',\n",
    "       'Adj Closerolling_std_7']"
   ]
  },
  {
   "cell_type": "code",
   "execution_count": 24,
   "metadata": {
    "id": "z-6qGDtuRLDk"
   },
   "outputs": [],
   "source": [
    "training_data=data[0:701]\n",
    "test_data=data[701:]"
   ]
  },
  {
   "cell_type": "code",
   "execution_count": 25,
   "metadata": {
    "colab": {
     "base_uri": "https://localhost:8080/",
     "height": 710
    },
    "id": "SyzXesCuRLDl",
    "outputId": "2acc8574-796c-4dad-e1d1-182ca18e7a4a"
   },
   "outputs": [
    {
     "data": {
      "text/html": [
       "\n",
       "  <div id=\"df-146914a5-f2b9-47a2-9695-f4f6af7600f5\">\n",
       "    <div class=\"colab-df-container\">\n",
       "      <div>\n",
       "<style scoped>\n",
       "    .dataframe tbody tr th:only-of-type {\n",
       "        vertical-align: middle;\n",
       "    }\n",
       "\n",
       "    .dataframe tbody tr th {\n",
       "        vertical-align: top;\n",
       "    }\n",
       "\n",
       "    .dataframe thead th {\n",
       "        text-align: right;\n",
       "    }\n",
       "</style>\n",
       "<table border=\"1\" class=\"dataframe\">\n",
       "  <thead>\n",
       "    <tr style=\"text-align: right;\">\n",
       "      <th></th>\n",
       "      <th>Open</th>\n",
       "      <th>High</th>\n",
       "      <th>Low</th>\n",
       "      <th>Close</th>\n",
       "      <th>Adj Close</th>\n",
       "      <th>Volume</th>\n",
       "      <th>Openrolling_mean_3</th>\n",
       "      <th>Openrolling_mean_7</th>\n",
       "      <th>Highrolling_mean_3</th>\n",
       "      <th>Highrolling_mean_7</th>\n",
       "      <th>...</th>\n",
       "      <th>Openrolling_std_3</th>\n",
       "      <th>Openrolling_std_7</th>\n",
       "      <th>Highrolling_std_3</th>\n",
       "      <th>Highrolling_std_7</th>\n",
       "      <th>Lowrolling_std_3</th>\n",
       "      <th>Lowrolling_std_7</th>\n",
       "      <th>Volumerolling_std_3</th>\n",
       "      <th>Volumerolling_std_7</th>\n",
       "      <th>Adj Closerolling_std_3</th>\n",
       "      <th>Adj Closerolling_std_7</th>\n",
       "    </tr>\n",
       "    <tr>\n",
       "      <th>Date</th>\n",
       "      <th></th>\n",
       "      <th></th>\n",
       "      <th></th>\n",
       "      <th></th>\n",
       "      <th></th>\n",
       "      <th></th>\n",
       "      <th></th>\n",
       "      <th></th>\n",
       "      <th></th>\n",
       "      <th></th>\n",
       "      <th></th>\n",
       "      <th></th>\n",
       "      <th></th>\n",
       "      <th></th>\n",
       "      <th></th>\n",
       "      <th></th>\n",
       "      <th></th>\n",
       "      <th></th>\n",
       "      <th></th>\n",
       "      <th></th>\n",
       "      <th></th>\n",
       "    </tr>\n",
       "  </thead>\n",
       "  <tbody>\n",
       "    <tr>\n",
       "      <th>2019-01-10</th>\n",
       "      <td>5.48</td>\n",
       "      <td>5.74</td>\n",
       "      <td>5.37</td>\n",
       "      <td>5.71</td>\n",
       "      <td>5.337609</td>\n",
       "      <td>250700</td>\n",
       "      <td>5.480000</td>\n",
       "      <td>5.172857</td>\n",
       "      <td>5.686667</td>\n",
       "      <td>5.408571</td>\n",
       "      <td>...</td>\n",
       "      <td>0.010000</td>\n",
       "      <td>0.311326</td>\n",
       "      <td>0.055076</td>\n",
       "      <td>0.296503</td>\n",
       "      <td>0.055076</td>\n",
       "      <td>0.305388</td>\n",
       "      <td>64474.051628</td>\n",
       "      <td>40878.798790</td>\n",
       "      <td>0.089173</td>\n",
       "      <td>0.292007</td>\n",
       "    </tr>\n",
       "    <tr>\n",
       "      <th>2019-01-11</th>\n",
       "      <td>5.70</td>\n",
       "      <td>6.03</td>\n",
       "      <td>5.64</td>\n",
       "      <td>5.86</td>\n",
       "      <td>5.477826</td>\n",
       "      <td>388500</td>\n",
       "      <td>5.556667</td>\n",
       "      <td>5.312857</td>\n",
       "      <td>5.800000</td>\n",
       "      <td>5.544286</td>\n",
       "      <td>...</td>\n",
       "      <td>0.124231</td>\n",
       "      <td>0.293582</td>\n",
       "      <td>0.206640</td>\n",
       "      <td>0.335850</td>\n",
       "      <td>0.136504</td>\n",
       "      <td>0.301662</td>\n",
       "      <td>99777.469067</td>\n",
       "      <td>66331.275393</td>\n",
       "      <td>0.149663</td>\n",
       "      <td>0.304699</td>\n",
       "    </tr>\n",
       "    <tr>\n",
       "      <th>2019-01-14</th>\n",
       "      <td>5.80</td>\n",
       "      <td>5.92</td>\n",
       "      <td>5.78</td>\n",
       "      <td>5.88</td>\n",
       "      <td>5.496522</td>\n",
       "      <td>148500</td>\n",
       "      <td>5.660000</td>\n",
       "      <td>5.438571</td>\n",
       "      <td>5.896667</td>\n",
       "      <td>5.664286</td>\n",
       "      <td>...</td>\n",
       "      <td>0.163707</td>\n",
       "      <td>0.285624</td>\n",
       "      <td>0.146401</td>\n",
       "      <td>0.289128</td>\n",
       "      <td>0.208407</td>\n",
       "      <td>0.297081</td>\n",
       "      <td>120439.251631</td>\n",
       "      <td>80544.705126</td>\n",
       "      <td>0.086856</td>\n",
       "      <td>0.252951</td>\n",
       "    </tr>\n",
       "    <tr>\n",
       "      <th>2019-01-15</th>\n",
       "      <td>5.88</td>\n",
       "      <td>6.20</td>\n",
       "      <td>5.79</td>\n",
       "      <td>6.10</td>\n",
       "      <td>5.702174</td>\n",
       "      <td>260900</td>\n",
       "      <td>5.793333</td>\n",
       "      <td>5.562857</td>\n",
       "      <td>6.050000</td>\n",
       "      <td>5.814286</td>\n",
       "      <td>...</td>\n",
       "      <td>0.090185</td>\n",
       "      <td>0.255781</td>\n",
       "      <td>0.141067</td>\n",
       "      <td>0.247175</td>\n",
       "      <td>0.083865</td>\n",
       "      <td>0.263547</td>\n",
       "      <td>120080.195425</td>\n",
       "      <td>79044.685975</td>\n",
       "      <td>0.124482</td>\n",
       "      <td>0.231045</td>\n",
       "    </tr>\n",
       "    <tr>\n",
       "      <th>2019-01-16</th>\n",
       "      <td>6.07</td>\n",
       "      <td>6.15</td>\n",
       "      <td>5.92</td>\n",
       "      <td>5.99</td>\n",
       "      <td>5.599348</td>\n",
       "      <td>250900</td>\n",
       "      <td>5.916667</td>\n",
       "      <td>5.698571</td>\n",
       "      <td>6.090000</td>\n",
       "      <td>5.908571</td>\n",
       "      <td>...</td>\n",
       "      <td>0.138684</td>\n",
       "      <td>0.232625</td>\n",
       "      <td>0.149332</td>\n",
       "      <td>0.227993</td>\n",
       "      <td>0.078102</td>\n",
       "      <td>0.218893</td>\n",
       "      <td>62208.681066</td>\n",
       "      <td>78935.594602</td>\n",
       "      <td>0.102826</td>\n",
       "      <td>0.199823</td>\n",
       "    </tr>\n",
       "    <tr>\n",
       "      <th>...</th>\n",
       "      <td>...</td>\n",
       "      <td>...</td>\n",
       "      <td>...</td>\n",
       "      <td>...</td>\n",
       "      <td>...</td>\n",
       "      <td>...</td>\n",
       "      <td>...</td>\n",
       "      <td>...</td>\n",
       "      <td>...</td>\n",
       "      <td>...</td>\n",
       "      <td>...</td>\n",
       "      <td>...</td>\n",
       "      <td>...</td>\n",
       "      <td>...</td>\n",
       "      <td>...</td>\n",
       "      <td>...</td>\n",
       "      <td>...</td>\n",
       "      <td>...</td>\n",
       "      <td>...</td>\n",
       "      <td>...</td>\n",
       "      <td>...</td>\n",
       "    </tr>\n",
       "    <tr>\n",
       "      <th>2021-10-14</th>\n",
       "      <td>9.89</td>\n",
       "      <td>10.02</td>\n",
       "      <td>9.76</td>\n",
       "      <td>9.90</td>\n",
       "      <td>9.900000</td>\n",
       "      <td>350100</td>\n",
       "      <td>9.963333</td>\n",
       "      <td>10.064286</td>\n",
       "      <td>10.010000</td>\n",
       "      <td>10.161429</td>\n",
       "      <td>...</td>\n",
       "      <td>0.087369</td>\n",
       "      <td>0.123674</td>\n",
       "      <td>0.065575</td>\n",
       "      <td>0.150934</td>\n",
       "      <td>0.015276</td>\n",
       "      <td>0.111270</td>\n",
       "      <td>87840.157863</td>\n",
       "      <td>91854.965908</td>\n",
       "      <td>0.030550</td>\n",
       "      <td>0.146288</td>\n",
       "    </tr>\n",
       "    <tr>\n",
       "      <th>2021-10-15</th>\n",
       "      <td>10.03</td>\n",
       "      <td>10.21</td>\n",
       "      <td>9.93</td>\n",
       "      <td>10.12</td>\n",
       "      <td>10.120000</td>\n",
       "      <td>461500</td>\n",
       "      <td>9.953333</td>\n",
       "      <td>10.058571</td>\n",
       "      <td>10.056667</td>\n",
       "      <td>10.148571</td>\n",
       "      <td>...</td>\n",
       "      <td>0.070946</td>\n",
       "      <td>0.124288</td>\n",
       "      <td>0.138684</td>\n",
       "      <td>0.140645</td>\n",
       "      <td>0.107858</td>\n",
       "      <td>0.115429</td>\n",
       "      <td>102047.505277</td>\n",
       "      <td>96638.853963</td>\n",
       "      <td>0.147422</td>\n",
       "      <td>0.152253</td>\n",
       "    </tr>\n",
       "    <tr>\n",
       "      <th>2021-10-18</th>\n",
       "      <td>10.05</td>\n",
       "      <td>10.35</td>\n",
       "      <td>9.97</td>\n",
       "      <td>10.27</td>\n",
       "      <td>10.270000</td>\n",
       "      <td>332400</td>\n",
       "      <td>9.990000</td>\n",
       "      <td>10.054286</td>\n",
       "      <td>10.193334</td>\n",
       "      <td>10.154286</td>\n",
       "      <td>...</td>\n",
       "      <td>0.087178</td>\n",
       "      <td>0.123943</td>\n",
       "      <td>0.165630</td>\n",
       "      <td>0.148869</td>\n",
       "      <td>0.111505</td>\n",
       "      <td>0.098778</td>\n",
       "      <td>69988.165666</td>\n",
       "      <td>90077.937154</td>\n",
       "      <td>0.186101</td>\n",
       "      <td>0.152253</td>\n",
       "    </tr>\n",
       "    <tr>\n",
       "      <th>2021-10-19</th>\n",
       "      <td>10.13</td>\n",
       "      <td>10.42</td>\n",
       "      <td>10.13</td>\n",
       "      <td>10.20</td>\n",
       "      <td>10.200000</td>\n",
       "      <td>493600</td>\n",
       "      <td>10.070000</td>\n",
       "      <td>10.035714</td>\n",
       "      <td>10.326667</td>\n",
       "      <td>10.172857</td>\n",
       "      <td>...</td>\n",
       "      <td>0.052915</td>\n",
       "      <td>0.094138</td>\n",
       "      <td>0.106927</td>\n",
       "      <td>0.174520</td>\n",
       "      <td>0.105830</td>\n",
       "      <td>0.146271</td>\n",
       "      <td>85325.513965</td>\n",
       "      <td>107095.251329</td>\n",
       "      <td>0.075056</td>\n",
       "      <td>0.170084</td>\n",
       "    </tr>\n",
       "    <tr>\n",
       "      <th>2021-10-20</th>\n",
       "      <td>10.12</td>\n",
       "      <td>10.75</td>\n",
       "      <td>10.12</td>\n",
       "      <td>10.50</td>\n",
       "      <td>10.500000</td>\n",
       "      <td>577700</td>\n",
       "      <td>10.100000</td>\n",
       "      <td>10.031429</td>\n",
       "      <td>10.506667</td>\n",
       "      <td>10.251429</td>\n",
       "      <td>...</td>\n",
       "      <td>0.043589</td>\n",
       "      <td>0.088587</td>\n",
       "      <td>0.213619</td>\n",
       "      <td>0.280442</td>\n",
       "      <td>0.089629</td>\n",
       "      <td>0.171728</td>\n",
       "      <td>124653.078582</td>\n",
       "      <td>108723.049206</td>\n",
       "      <td>0.156950</td>\n",
       "      <td>0.243340</td>\n",
       "    </tr>\n",
       "  </tbody>\n",
       "</table>\n",
       "<p>701 rows × 26 columns</p>\n",
       "</div>\n",
       "      <button class=\"colab-df-convert\" onclick=\"convertToInteractive('df-146914a5-f2b9-47a2-9695-f4f6af7600f5')\"\n",
       "              title=\"Convert this dataframe to an interactive table.\"\n",
       "              style=\"display:none;\">\n",
       "        \n",
       "  <svg xmlns=\"http://www.w3.org/2000/svg\" height=\"24px\"viewBox=\"0 0 24 24\"\n",
       "       width=\"24px\">\n",
       "    <path d=\"M0 0h24v24H0V0z\" fill=\"none\"/>\n",
       "    <path d=\"M18.56 5.44l.94 2.06.94-2.06 2.06-.94-2.06-.94-.94-2.06-.94 2.06-2.06.94zm-11 1L8.5 8.5l.94-2.06 2.06-.94-2.06-.94L8.5 2.5l-.94 2.06-2.06.94zm10 10l.94 2.06.94-2.06 2.06-.94-2.06-.94-.94-2.06-.94 2.06-2.06.94z\"/><path d=\"M17.41 7.96l-1.37-1.37c-.4-.4-.92-.59-1.43-.59-.52 0-1.04.2-1.43.59L10.3 9.45l-7.72 7.72c-.78.78-.78 2.05 0 2.83L4 21.41c.39.39.9.59 1.41.59.51 0 1.02-.2 1.41-.59l7.78-7.78 2.81-2.81c.8-.78.8-2.07 0-2.86zM5.41 20L4 18.59l7.72-7.72 1.47 1.35L5.41 20z\"/>\n",
       "  </svg>\n",
       "      </button>\n",
       "      \n",
       "  <style>\n",
       "    .colab-df-container {\n",
       "      display:flex;\n",
       "      flex-wrap:wrap;\n",
       "      gap: 12px;\n",
       "    }\n",
       "\n",
       "    .colab-df-convert {\n",
       "      background-color: #E8F0FE;\n",
       "      border: none;\n",
       "      border-radius: 50%;\n",
       "      cursor: pointer;\n",
       "      display: none;\n",
       "      fill: #1967D2;\n",
       "      height: 32px;\n",
       "      padding: 0 0 0 0;\n",
       "      width: 32px;\n",
       "    }\n",
       "\n",
       "    .colab-df-convert:hover {\n",
       "      background-color: #E2EBFA;\n",
       "      box-shadow: 0px 1px 2px rgba(60, 64, 67, 0.3), 0px 1px 3px 1px rgba(60, 64, 67, 0.15);\n",
       "      fill: #174EA6;\n",
       "    }\n",
       "\n",
       "    [theme=dark] .colab-df-convert {\n",
       "      background-color: #3B4455;\n",
       "      fill: #D2E3FC;\n",
       "    }\n",
       "\n",
       "    [theme=dark] .colab-df-convert:hover {\n",
       "      background-color: #434B5C;\n",
       "      box-shadow: 0px 1px 3px 1px rgba(0, 0, 0, 0.15);\n",
       "      filter: drop-shadow(0px 1px 2px rgba(0, 0, 0, 0.3));\n",
       "      fill: #FFFFFF;\n",
       "    }\n",
       "  </style>\n",
       "\n",
       "      <script>\n",
       "        const buttonEl =\n",
       "          document.querySelector('#df-146914a5-f2b9-47a2-9695-f4f6af7600f5 button.colab-df-convert');\n",
       "        buttonEl.style.display =\n",
       "          google.colab.kernel.accessAllowed ? 'block' : 'none';\n",
       "\n",
       "        async function convertToInteractive(key) {\n",
       "          const element = document.querySelector('#df-146914a5-f2b9-47a2-9695-f4f6af7600f5');\n",
       "          const dataTable =\n",
       "            await google.colab.kernel.invokeFunction('convertToInteractive',\n",
       "                                                     [key], {});\n",
       "          if (!dataTable) return;\n",
       "\n",
       "          const docLinkHtml = 'Like what you see? Visit the ' +\n",
       "            '<a target=\"_blank\" href=https://colab.research.google.com/notebooks/data_table.ipynb>data table notebook</a>'\n",
       "            + ' to learn more about interactive tables.';\n",
       "          element.innerHTML = '';\n",
       "          dataTable['output_type'] = 'display_data';\n",
       "          await google.colab.output.renderOutput(dataTable, element);\n",
       "          const docLink = document.createElement('div');\n",
       "          docLink.innerHTML = docLinkHtml;\n",
       "          element.appendChild(docLink);\n",
       "        }\n",
       "      </script>\n",
       "    </div>\n",
       "  </div>\n",
       "  "
      ],
      "text/plain": [
       "             Open   High    Low  Close  Adj Close  Volume  Openrolling_mean_3  \\\n",
       "Date                                                                            \n",
       "2019-01-10   5.48   5.74   5.37   5.71   5.337609  250700            5.480000   \n",
       "2019-01-11   5.70   6.03   5.64   5.86   5.477826  388500            5.556667   \n",
       "2019-01-14   5.80   5.92   5.78   5.88   5.496522  148500            5.660000   \n",
       "2019-01-15   5.88   6.20   5.79   6.10   5.702174  260900            5.793333   \n",
       "2019-01-16   6.07   6.15   5.92   5.99   5.599348  250900            5.916667   \n",
       "...           ...    ...    ...    ...        ...     ...                 ...   \n",
       "2021-10-14   9.89  10.02   9.76   9.90   9.900000  350100            9.963333   \n",
       "2021-10-15  10.03  10.21   9.93  10.12  10.120000  461500            9.953333   \n",
       "2021-10-18  10.05  10.35   9.97  10.27  10.270000  332400            9.990000   \n",
       "2021-10-19  10.13  10.42  10.13  10.20  10.200000  493600           10.070000   \n",
       "2021-10-20  10.12  10.75  10.12  10.50  10.500000  577700           10.100000   \n",
       "\n",
       "            Openrolling_mean_7  Highrolling_mean_3  Highrolling_mean_7  ...  \\\n",
       "Date                                                                    ...   \n",
       "2019-01-10            5.172857            5.686667            5.408571  ...   \n",
       "2019-01-11            5.312857            5.800000            5.544286  ...   \n",
       "2019-01-14            5.438571            5.896667            5.664286  ...   \n",
       "2019-01-15            5.562857            6.050000            5.814286  ...   \n",
       "2019-01-16            5.698571            6.090000            5.908571  ...   \n",
       "...                        ...                 ...                 ...  ...   \n",
       "2021-10-14           10.064286           10.010000           10.161429  ...   \n",
       "2021-10-15           10.058571           10.056667           10.148571  ...   \n",
       "2021-10-18           10.054286           10.193334           10.154286  ...   \n",
       "2021-10-19           10.035714           10.326667           10.172857  ...   \n",
       "2021-10-20           10.031429           10.506667           10.251429  ...   \n",
       "\n",
       "            Openrolling_std_3  Openrolling_std_7  Highrolling_std_3  \\\n",
       "Date                                                                  \n",
       "2019-01-10           0.010000           0.311326           0.055076   \n",
       "2019-01-11           0.124231           0.293582           0.206640   \n",
       "2019-01-14           0.163707           0.285624           0.146401   \n",
       "2019-01-15           0.090185           0.255781           0.141067   \n",
       "2019-01-16           0.138684           0.232625           0.149332   \n",
       "...                       ...                ...                ...   \n",
       "2021-10-14           0.087369           0.123674           0.065575   \n",
       "2021-10-15           0.070946           0.124288           0.138684   \n",
       "2021-10-18           0.087178           0.123943           0.165630   \n",
       "2021-10-19           0.052915           0.094138           0.106927   \n",
       "2021-10-20           0.043589           0.088587           0.213619   \n",
       "\n",
       "            Highrolling_std_7  Lowrolling_std_3  Lowrolling_std_7  \\\n",
       "Date                                                                \n",
       "2019-01-10           0.296503          0.055076          0.305388   \n",
       "2019-01-11           0.335850          0.136504          0.301662   \n",
       "2019-01-14           0.289128          0.208407          0.297081   \n",
       "2019-01-15           0.247175          0.083865          0.263547   \n",
       "2019-01-16           0.227993          0.078102          0.218893   \n",
       "...                       ...               ...               ...   \n",
       "2021-10-14           0.150934          0.015276          0.111270   \n",
       "2021-10-15           0.140645          0.107858          0.115429   \n",
       "2021-10-18           0.148869          0.111505          0.098778   \n",
       "2021-10-19           0.174520          0.105830          0.146271   \n",
       "2021-10-20           0.280442          0.089629          0.171728   \n",
       "\n",
       "            Volumerolling_std_3  Volumerolling_std_7  Adj Closerolling_std_3  \\\n",
       "Date                                                                           \n",
       "2019-01-10         64474.051628         40878.798790                0.089173   \n",
       "2019-01-11         99777.469067         66331.275393                0.149663   \n",
       "2019-01-14        120439.251631         80544.705126                0.086856   \n",
       "2019-01-15        120080.195425         79044.685975                0.124482   \n",
       "2019-01-16         62208.681066         78935.594602                0.102826   \n",
       "...                         ...                  ...                     ...   \n",
       "2021-10-14         87840.157863         91854.965908                0.030550   \n",
       "2021-10-15        102047.505277         96638.853963                0.147422   \n",
       "2021-10-18         69988.165666         90077.937154                0.186101   \n",
       "2021-10-19         85325.513965        107095.251329                0.075056   \n",
       "2021-10-20        124653.078582        108723.049206                0.156950   \n",
       "\n",
       "            Adj Closerolling_std_7  \n",
       "Date                                \n",
       "2019-01-10                0.292007  \n",
       "2019-01-11                0.304699  \n",
       "2019-01-14                0.252951  \n",
       "2019-01-15                0.231045  \n",
       "2019-01-16                0.199823  \n",
       "...                            ...  \n",
       "2021-10-14                0.146288  \n",
       "2021-10-15                0.152253  \n",
       "2021-10-18                0.152253  \n",
       "2021-10-19                0.170084  \n",
       "2021-10-20                0.243340  \n",
       "\n",
       "[701 rows x 26 columns]"
      ]
     },
     "execution_count": 25,
     "metadata": {},
     "output_type": "execute_result"
    }
   ],
   "source": [
    "training_data"
   ]
  },
  {
   "cell_type": "code",
   "execution_count": 26,
   "metadata": {
    "colab": {
     "base_uri": "https://localhost:8080/",
     "height": 571
    },
    "id": "bl2HRKirRLDl",
    "outputId": "8997488a-3166-44fb-bba4-f9b75d3bf1d3"
   },
   "outputs": [
    {
     "name": "stdout",
     "output_type": "stream",
     "text": [
      "Collecting pmdarima\n",
      "  Downloading pmdarima-1.8.5-cp37-cp37m-manylinux_2_17_x86_64.manylinux2014_x86_64.manylinux_2_24_x86_64.whl (1.4 MB)\n",
      "\u001b[K     |████████████████████████████████| 1.4 MB 20.5 MB/s \n",
      "\u001b[?25hCollecting statsmodels!=0.12.0,>=0.11\n",
      "  Downloading statsmodels-0.13.2-cp37-cp37m-manylinux_2_17_x86_64.manylinux2014_x86_64.whl (9.8 MB)\n",
      "\u001b[K     |████████████████████████████████| 9.8 MB 51.6 MB/s \n",
      "\u001b[?25hRequirement already satisfied: urllib3 in /usr/local/lib/python3.7/dist-packages (from pmdarima) (1.24.3)\n",
      "Requirement already satisfied: pandas>=0.19 in /usr/local/lib/python3.7/dist-packages (from pmdarima) (1.3.5)\n",
      "Requirement already satisfied: scipy>=1.3.2 in /usr/local/lib/python3.7/dist-packages (from pmdarima) (1.4.1)\n",
      "Requirement already satisfied: Cython!=0.29.18,>=0.29 in /usr/local/lib/python3.7/dist-packages (from pmdarima) (0.29.28)\n",
      "Requirement already satisfied: numpy>=1.19.3 in /usr/local/lib/python3.7/dist-packages (from pmdarima) (1.21.6)\n",
      "Requirement already satisfied: joblib>=0.11 in /usr/local/lib/python3.7/dist-packages (from pmdarima) (1.1.0)\n",
      "Requirement already satisfied: setuptools!=50.0.0,>=38.6.0 in /usr/local/lib/python3.7/dist-packages (from pmdarima) (57.4.0)\n",
      "Requirement already satisfied: scikit-learn>=0.22 in /usr/local/lib/python3.7/dist-packages (from pmdarima) (1.0.2)\n",
      "Requirement already satisfied: pytz>=2017.3 in /usr/local/lib/python3.7/dist-packages (from pandas>=0.19->pmdarima) (2022.1)\n",
      "Requirement already satisfied: python-dateutil>=2.7.3 in /usr/local/lib/python3.7/dist-packages (from pandas>=0.19->pmdarima) (2.8.2)\n",
      "Requirement already satisfied: six>=1.5 in /usr/local/lib/python3.7/dist-packages (from python-dateutil>=2.7.3->pandas>=0.19->pmdarima) (1.15.0)\n",
      "Requirement already satisfied: threadpoolctl>=2.0.0 in /usr/local/lib/python3.7/dist-packages (from scikit-learn>=0.22->pmdarima) (3.1.0)\n",
      "Requirement already satisfied: packaging>=21.3 in /usr/local/lib/python3.7/dist-packages (from statsmodels!=0.12.0,>=0.11->pmdarima) (21.3)\n",
      "Requirement already satisfied: patsy>=0.5.2 in /usr/local/lib/python3.7/dist-packages (from statsmodels!=0.12.0,>=0.11->pmdarima) (0.5.2)\n",
      "Requirement already satisfied: pyparsing!=3.0.5,>=2.0.2 in /usr/local/lib/python3.7/dist-packages (from packaging>=21.3->statsmodels!=0.12.0,>=0.11->pmdarima) (3.0.8)\n",
      "Installing collected packages: statsmodels, pmdarima\n",
      "  Attempting uninstall: statsmodels\n",
      "    Found existing installation: statsmodels 0.10.2\n",
      "    Uninstalling statsmodels-0.10.2:\n",
      "      Successfully uninstalled statsmodels-0.10.2\n",
      "Successfully installed pmdarima-1.8.5 statsmodels-0.13.2\n"
     ]
    },
    {
     "data": {
      "application/vnd.colab-display-data+json": {
       "pip_warning": {
        "packages": [
         "statsmodels"
        ]
       }
      }
     },
     "metadata": {},
     "output_type": "display_data"
    }
   ],
   "source": [
    "!pip install pmdarima"
   ]
  },
  {
   "cell_type": "code",
   "execution_count": 27,
   "metadata": {
    "id": "8Zf6rta8RLDl"
   },
   "outputs": [],
   "source": [
    "from pmdarima import auto_arima"
   ]
  },
  {
   "cell_type": "code",
   "execution_count": 28,
   "metadata": {
    "id": "BRIK3yv8RLDl"
   },
   "outputs": [],
   "source": [
    "import warnings\n",
    "warnings.filterwarnings('ignore')"
   ]
  },
  {
   "cell_type": "code",
   "execution_count": 29,
   "metadata": {
    "colab": {
     "base_uri": "https://localhost:8080/"
    },
    "id": "EQ0K1XQwRLDl",
    "outputId": "14d91275-c63a-4830-b7c3-8dd570242d57"
   },
   "outputs": [
    {
     "name": "stdout",
     "output_type": "stream",
     "text": [
      "Performing stepwise search to minimize aic\n",
      " ARIMA(2,1,2)(0,0,0)[0] intercept   : AIC=-338.106, Time=7.98 sec\n",
      " ARIMA(0,1,0)(0,0,0)[0] intercept   : AIC=-221.436, Time=3.94 sec\n",
      " ARIMA(1,1,0)(0,0,0)[0] intercept   : AIC=-252.269, Time=8.85 sec\n",
      " ARIMA(0,1,1)(0,0,0)[0] intercept   : AIC=-286.887, Time=8.68 sec\n",
      " ARIMA(0,1,0)(0,0,0)[0]             : AIC=3663.335, Time=1.43 sec\n",
      " ARIMA(1,1,2)(0,0,0)[0] intercept   : AIC=-328.736, Time=2.40 sec\n",
      " ARIMA(2,1,1)(0,0,0)[0] intercept   : AIC=-337.110, Time=2.73 sec\n",
      " ARIMA(3,1,2)(0,0,0)[0] intercept   : AIC=-335.061, Time=2.71 sec\n",
      " ARIMA(2,1,3)(0,0,0)[0] intercept   : AIC=-339.304, Time=3.18 sec\n",
      " ARIMA(1,1,3)(0,0,0)[0] intercept   : AIC=-327.765, Time=2.91 sec\n",
      " ARIMA(3,1,3)(0,0,0)[0] intercept   : AIC=-339.507, Time=3.07 sec\n",
      " ARIMA(4,1,3)(0,0,0)[0] intercept   : AIC=-339.273, Time=3.39 sec\n",
      " ARIMA(3,1,4)(0,0,0)[0] intercept   : AIC=-335.426, Time=3.75 sec\n",
      " ARIMA(2,1,4)(0,0,0)[0] intercept   : AIC=-338.039, Time=3.27 sec\n",
      " ARIMA(4,1,2)(0,0,0)[0] intercept   : AIC=-194.275, Time=3.17 sec\n",
      " ARIMA(4,1,4)(0,0,0)[0] intercept   : AIC=-191.103, Time=3.49 sec\n",
      " ARIMA(3,1,3)(0,0,0)[0]             : AIC=-341.491, Time=3.34 sec\n",
      " ARIMA(2,1,3)(0,0,0)[0]             : AIC=-341.285, Time=3.09 sec\n",
      " ARIMA(3,1,2)(0,0,0)[0]             : AIC=-337.051, Time=2.44 sec\n",
      " ARIMA(4,1,3)(0,0,0)[0]             : AIC=-342.057, Time=3.21 sec\n",
      " ARIMA(4,1,2)(0,0,0)[0]             : AIC=-196.311, Time=2.87 sec\n",
      " ARIMA(5,1,3)(0,0,0)[0]             : AIC=-339.099, Time=3.39 sec\n",
      " ARIMA(4,1,4)(0,0,0)[0]             : AIC=-193.250, Time=3.79 sec\n",
      " ARIMA(3,1,4)(0,0,0)[0]             : AIC=-337.386, Time=3.13 sec\n",
      " ARIMA(5,1,2)(0,0,0)[0]             : AIC=-194.311, Time=3.29 sec\n",
      " ARIMA(5,1,4)(0,0,0)[0]             : AIC=-191.228, Time=3.58 sec\n",
      "\n",
      "Best model:  ARIMA(4,1,3)(0,0,0)[0]          \n",
      "Total fit time: 97.204 seconds\n"
     ]
    }
   ],
   "source": [
    "model=auto_arima(y=training_data['Close'],exogenous=training_data[ind_features],trace=True)"
   ]
  },
  {
   "cell_type": "code",
   "execution_count": 30,
   "metadata": {
    "colab": {
     "base_uri": "https://localhost:8080/"
    },
    "id": "zUa7RZNwRLDl",
    "outputId": "1d8754c8-fd46-4be7-b4d3-b178ad9484ad"
   },
   "outputs": [
    {
     "data": {
      "text/plain": [
       "ARIMA(order=(4, 1, 3), scoring_args={}, suppress_warnings=True,\n",
       "      with_intercept=False)"
      ]
     },
     "execution_count": 30,
     "metadata": {},
     "output_type": "execute_result"
    }
   ],
   "source": [
    "model.fit(training_data['Close'],training_data[ind_features])"
   ]
  },
  {
   "cell_type": "code",
   "execution_count": 31,
   "metadata": {
    "id": "HSj4Gu3QRLDm"
   },
   "outputs": [],
   "source": [
    "forecast=model.predict(n_periods=len(test_data), exogenous=test_data[ind_features])"
   ]
  },
  {
   "cell_type": "code",
   "execution_count": 32,
   "metadata": {
    "id": "tJsX2B6PRLDm"
   },
   "outputs": [],
   "source": [
    "test_data['Forecast_ARIMA']=forecast"
   ]
  },
  {
   "cell_type": "code",
   "execution_count": 33,
   "metadata": {
    "colab": {
     "base_uri": "https://localhost:8080/",
     "height": 459
    },
    "id": "0xb9J6iDRLDm",
    "outputId": "690abbdd-99ce-4f58-b25d-afc3188d1778"
   },
   "outputs": [
    {
     "data": {
      "text/plain": [
       "<matplotlib.axes._subplots.AxesSubplot at 0x7fc96ca7c150>"
      ]
     },
     "execution_count": 33,
     "metadata": {},
     "output_type": "execute_result"
    },
    {
     "data": {
      "image/png": "[encoded data removed]",
      "text/plain": [
       "<Figure size 1008x504 with 1 Axes>"
      ]
     },
     "metadata": {
      "needs_background": "light"
     },
     "output_type": "display_data"
    }
   ],
   "source": [
    "test_data[['Close','Forecast_ARIMA']].plot(figsize=(14,7))"
   ]
  },
  {
   "cell_type": "markdown",
   "metadata": {
    "id": "C7oMMyIURLDm"
   },
   "source": [
    "#### Checking Accuracy of our model"
   ]
  },
  {
   "cell_type": "code",
   "execution_count": 34,
   "metadata": {
    "id": "FTxLkKyCRLDm"
   },
   "outputs": [],
   "source": [
    "from sklearn.metrics import mean_absolute_error, mean_squared_error"
   ]
  },
  {
   "cell_type": "code",
   "execution_count": 35,
   "metadata": {
    "colab": {
     "base_uri": "https://localhost:8080/"
    },
    "id": "vfOQKePrRLDn",
    "outputId": "c7feef55-bc22-4099-bf11-4313f5349c02"
   },
   "outputs": [
    {
     "data": {
      "text/plain": [
       "0.37826752878851816"
      ]
     },
     "execution_count": 35,
     "metadata": {},
     "output_type": "execute_result"
    }
   ],
   "source": [
    "np.sqrt(mean_squared_error(test_data['Close'],test_data['Forecast_ARIMA']))"
   ]
  },
  {
   "cell_type": "code",
   "execution_count": 36,
   "metadata": {
    "colab": {
     "base_uri": "https://localhost:8080/"
    },
    "id": "TPcBGi05RLDn",
    "outputId": "62dc3a53-5c37-46bf-d9f1-a12c708224d8"
   },
   "outputs": [
    {
     "data": {
      "text/plain": [
       "0.26494692467004716"
      ]
     },
     "execution_count": 36,
     "metadata": {},
     "output_type": "execute_result"
    }
   ],
   "source": [
    "mean_absolute_error(test_data['Close'],test_data['Forecast_ARIMA'])"
   ]
  },
  {
   "cell_type": "code",
   "execution_count": null,
   "metadata": {
    "id": "8_ugGS_bRLDn"
   },
   "outputs": [],
   "source": []
  },
  {
   "cell_type": "markdown",
   "metadata": {
    "id": "fv_LlGcBqnPG"
   },
   "source": [
    "### Why lag is important?"
   ]
  },
  {
   "cell_type": "code",
   "execution_count": 37,
   "metadata": {
    "colab": {
     "base_uri": "https://localhost:8080/"
    },
    "id": "pVFhXDyNRLDn",
    "outputId": "d03d4efd-b85c-4869-bf8d-41237237c250"
   },
   "outputs": [
    {
     "name": "stdout",
     "output_type": "stream",
     "text": [
      "Performing stepwise search to minimize aic\n",
      " ARIMA(2,1,2)(0,0,0)[0] intercept   : AIC=634.826, Time=1.74 sec\n",
      " ARIMA(0,1,0)(0,0,0)[0] intercept   : AIC=635.068, Time=0.19 sec\n",
      " ARIMA(1,1,0)(0,0,0)[0] intercept   : AIC=635.551, Time=0.11 sec\n",
      " ARIMA(0,1,1)(0,0,0)[0] intercept   : AIC=635.251, Time=0.37 sec\n",
      " ARIMA(0,1,0)(0,0,0)[0]             : AIC=633.296, Time=0.06 sec\n",
      " ARIMA(1,1,1)(0,0,0)[0] intercept   : AIC=631.911, Time=0.98 sec\n",
      " ARIMA(2,1,1)(0,0,0)[0] intercept   : AIC=632.974, Time=0.90 sec\n",
      " ARIMA(1,1,2)(0,0,0)[0] intercept   : AIC=632.912, Time=1.06 sec\n",
      " ARIMA(0,1,2)(0,0,0)[0] intercept   : AIC=632.449, Time=0.35 sec\n",
      " ARIMA(2,1,0)(0,0,0)[0] intercept   : AIC=632.799, Time=0.35 sec\n",
      " ARIMA(1,1,1)(0,0,0)[0]             : AIC=630.265, Time=0.28 sec\n",
      " ARIMA(0,1,1)(0,0,0)[0]             : AIC=633.504, Time=0.12 sec\n",
      " ARIMA(1,1,0)(0,0,0)[0]             : AIC=633.798, Time=0.08 sec\n",
      " ARIMA(2,1,1)(0,0,0)[0]             : AIC=631.332, Time=0.38 sec\n",
      " ARIMA(1,1,2)(0,0,0)[0]             : AIC=631.270, Time=0.43 sec\n",
      " ARIMA(0,1,2)(0,0,0)[0]             : AIC=630.751, Time=0.15 sec\n",
      " ARIMA(2,1,0)(0,0,0)[0]             : AIC=631.087, Time=0.20 sec\n",
      " ARIMA(2,1,2)(0,0,0)[0]             : AIC=633.184, Time=0.97 sec\n",
      "\n",
      "Best model:  ARIMA(1,1,1)(0,0,0)[0]          \n",
      "Total fit time: 8.759 seconds\n"
     ]
    }
   ],
   "source": [
    "model1 = auto_arima(training_data['Close'],trace=True)"
   ]
  },
  {
   "cell_type": "code",
   "execution_count": 38,
   "metadata": {
    "colab": {
     "base_uri": "https://localhost:8080/"
    },
    "id": "ixmpB9QARLDn",
    "outputId": "10c2b106-2a30-4df0-ed2e-e10e1ac230e3"
   },
   "outputs": [
    {
     "data": {
      "text/plain": [
       "ARIMA(order=(1, 1, 1), scoring_args={}, suppress_warnings=True,\n",
       "      with_intercept=False)"
      ]
     },
     "execution_count": 38,
     "metadata": {},
     "output_type": "execute_result"
    }
   ],
   "source": [
    "model1.fit(training_data['Close'])"
   ]
  },
  {
   "cell_type": "code",
   "execution_count": 39,
   "metadata": {
    "id": "Casz46BxRLDn"
   },
   "outputs": [],
   "source": [
    "forecast1=model1.predict(n_periods=len(test_data))"
   ]
  },
  {
   "cell_type": "code",
   "execution_count": 40,
   "metadata": {
    "id": "28asPUrZRLDn"
   },
   "outputs": [],
   "source": [
    "test_data['Forecast_ARIMA1']=forecast1"
   ]
  },
  {
   "cell_type": "code",
   "execution_count": 41,
   "metadata": {
    "colab": {
     "base_uri": "https://localhost:8080/",
     "height": 459
    },
    "id": "szNqAoBwRLDn",
    "outputId": "6c437085-f647-4c2a-f01c-a5cb00312249"
   },
   "outputs": [
    {
     "data": {
      "text/plain": [
       "<matplotlib.axes._subplots.AxesSubplot at 0x7fc967053ad0>"
      ]
     },
     "execution_count": 41,
     "metadata": {},
     "output_type": "execute_result"
    },
    {
     "data": {
      "image/png": "[encoded data removed]",
      "text/plain": [
       "<Figure size 1008x504 with 1 Axes>"
      ]
     },
     "metadata": {
      "needs_background": "light"
     },
     "output_type": "display_data"
    }
   ],
   "source": [
    "test_data[['Close','Forecast_ARIMA1']].plot(figsize=(14,7))"
   ]
  }
 ],
 "metadata": {
  "colab": {
   "name": "Arima.ipynb",
   "provenance": []
  },
  "kernelspec": {
   "display_name": "Python 3 (ipykernel)",
   "language": "python",
   "name": "python3"
  },
  "language_info": {
   "codemirror_mode": {
    "name": "ipython",
    "version": 3
   },
   "file_extension": ".py",
   "mimetype": "text/x-python",
   "name": "python",
   "nbconvert_exporter": "python",
   "pygments_lexer": "ipython3",
   "version": "3.9.7"
  }
 },
 "nbformat": 4,
 "nbformat_minor": 1
}
